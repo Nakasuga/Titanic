{
 "cells": [
  {
   "cell_type": "markdown",
   "metadata": {},
   "source": [
    "### Aluno: Wagner Massayuki Nakasuga"
   ]
  },
  {
   "cell_type": "markdown",
   "metadata": {},
   "source": [
    "# Projeto final - Titanic\n",
    "\n",
    "## Introdução\n",
    "\n",
    "O Titanic foi um navio de passageiros operado pela White Star Line. Sua construção teve início em 1909 e foi lançado ao mar em 1911. Ele foi apresentado como o navio mais luxuoso e seguro do seu tempo, sendo até mesmo considerado como impossível de naufragar. A embarcação partiu de Southampton no dia 10 de abril de 1912 em direção a Nova Iorque, porém no dia 14 de abril ele colidiu com um iceberg às 23h40 min e afundou no dia seguinte com mais de 1500 pessoas a bordo. Este evento acabou tornando o Titanic como um dos navios mais conhecidos da história e foi inspiração para vários filmes.\n",
    "\n",
    "Sobre os dados do Titanic a serem analisados, as informações mais relevantes são sobre os passageiros sobreviventes e quais as características dessas pessoas. Dessa forma, a nálise desse projeto focará em buscar essas características.\n",
    "\n",
    "### Descrição dos dados:\n",
    "\n",
    "    - PassengerId - Identificação dos passageiros\n",
    "    - Survived - Sobreviventes (0 = não, 1 = sim)\n",
    "    - Pclass - Classe do bilhete (1 = 1st, 2 = 2nd, 3 = 3rd)\n",
    "    - Name - Nome do passageiro\n",
    "    - Sex - Sexo do passageiro\n",
    "    - Age - Idade do passageiro\n",
    "    - SibSp - Número de irmãos e cônjuges a bordo\n",
    "    - Parch - Número de pais e filhos a bordo\n",
    "    - Ticket - Número do bilhete\n",
    "    - Fare - Tarifa do passageiro\n",
    "    - Cabin - Número da Cabine\n",
    "    - Embarked - Portão de embarque (C = Cherbourg, Q = Queenstown, S = Southampton)"
   ]
  },
  {
   "cell_type": "code",
   "execution_count": 2,
   "metadata": {},
   "outputs": [],
   "source": [
    "# Importando os pacotes necessários\n",
    "import pandas as pd\n",
    "import numpy as np\n",
    "import matplotlib.pyplot as plt\n",
    "%matplotlib inline"
   ]
  },
  {
   "cell_type": "markdown",
   "metadata": {},
   "source": [
    "# Perguntas a serem respondidas no projeto:\n",
    "\n",
    "1. Qual a proporção entre homens e mulheres sobreviventes?\n",
    "2. A classe da tarifa tem relação com os sobreviventes?\n",
    "3. Os sobreviventes eram compostos de crianças, jovens e idosos?\n",
    "4. Por que tantos homens adultos sobrevieram enquanto muitas mulheres e crianças morreram?\n",
    "5. Quais os limites de preços das tarifas de cada classe e qual a idade média dos passageiros de cada uma delas?"
   ]
  },
  {
   "cell_type": "code",
   "execution_count": 3,
   "metadata": {},
   "outputs": [
    {
     "data": {
      "text/html": [
       "<div>\n",
       "<style scoped>\n",
       "    .dataframe tbody tr th:only-of-type {\n",
       "        vertical-align: middle;\n",
       "    }\n",
       "\n",
       "    .dataframe tbody tr th {\n",
       "        vertical-align: top;\n",
       "    }\n",
       "\n",
       "    .dataframe thead th {\n",
       "        text-align: right;\n",
       "    }\n",
       "</style>\n",
       "<table border=\"1\" class=\"dataframe\">\n",
       "  <thead>\n",
       "    <tr style=\"text-align: right;\">\n",
       "      <th></th>\n",
       "      <th>PassengerId</th>\n",
       "      <th>Survived</th>\n",
       "      <th>Pclass</th>\n",
       "      <th>Name</th>\n",
       "      <th>Sex</th>\n",
       "      <th>Age</th>\n",
       "      <th>SibSp</th>\n",
       "      <th>Parch</th>\n",
       "      <th>Ticket</th>\n",
       "      <th>Fare</th>\n",
       "      <th>Cabin</th>\n",
       "      <th>Embarked</th>\n",
       "    </tr>\n",
       "  </thead>\n",
       "  <tbody>\n",
       "    <tr>\n",
       "      <th>0</th>\n",
       "      <td>1</td>\n",
       "      <td>0</td>\n",
       "      <td>3</td>\n",
       "      <td>Braund, Mr. Owen Harris</td>\n",
       "      <td>male</td>\n",
       "      <td>22.0</td>\n",
       "      <td>1</td>\n",
       "      <td>0</td>\n",
       "      <td>A/5 21171</td>\n",
       "      <td>7.2500</td>\n",
       "      <td>NaN</td>\n",
       "      <td>S</td>\n",
       "    </tr>\n",
       "    <tr>\n",
       "      <th>1</th>\n",
       "      <td>2</td>\n",
       "      <td>1</td>\n",
       "      <td>1</td>\n",
       "      <td>Cumings, Mrs. John Bradley (Florence Briggs Th...</td>\n",
       "      <td>female</td>\n",
       "      <td>38.0</td>\n",
       "      <td>1</td>\n",
       "      <td>0</td>\n",
       "      <td>PC 17599</td>\n",
       "      <td>71.2833</td>\n",
       "      <td>C85</td>\n",
       "      <td>C</td>\n",
       "    </tr>\n",
       "    <tr>\n",
       "      <th>2</th>\n",
       "      <td>3</td>\n",
       "      <td>1</td>\n",
       "      <td>3</td>\n",
       "      <td>Heikkinen, Miss. Laina</td>\n",
       "      <td>female</td>\n",
       "      <td>26.0</td>\n",
       "      <td>0</td>\n",
       "      <td>0</td>\n",
       "      <td>STON/O2. 3101282</td>\n",
       "      <td>7.9250</td>\n",
       "      <td>NaN</td>\n",
       "      <td>S</td>\n",
       "    </tr>\n",
       "    <tr>\n",
       "      <th>3</th>\n",
       "      <td>4</td>\n",
       "      <td>1</td>\n",
       "      <td>1</td>\n",
       "      <td>Futrelle, Mrs. Jacques Heath (Lily May Peel)</td>\n",
       "      <td>female</td>\n",
       "      <td>35.0</td>\n",
       "      <td>1</td>\n",
       "      <td>0</td>\n",
       "      <td>113803</td>\n",
       "      <td>53.1000</td>\n",
       "      <td>C123</td>\n",
       "      <td>S</td>\n",
       "    </tr>\n",
       "    <tr>\n",
       "      <th>4</th>\n",
       "      <td>5</td>\n",
       "      <td>0</td>\n",
       "      <td>3</td>\n",
       "      <td>Allen, Mr. William Henry</td>\n",
       "      <td>male</td>\n",
       "      <td>35.0</td>\n",
       "      <td>0</td>\n",
       "      <td>0</td>\n",
       "      <td>373450</td>\n",
       "      <td>8.0500</td>\n",
       "      <td>NaN</td>\n",
       "      <td>S</td>\n",
       "    </tr>\n",
       "  </tbody>\n",
       "</table>\n",
       "</div>"
      ],
      "text/plain": [
       "   PassengerId  Survived  Pclass  \\\n",
       "0            1         0       3   \n",
       "1            2         1       1   \n",
       "2            3         1       3   \n",
       "3            4         1       1   \n",
       "4            5         0       3   \n",
       "\n",
       "                                                Name     Sex   Age  SibSp  \\\n",
       "0                            Braund, Mr. Owen Harris    male  22.0      1   \n",
       "1  Cumings, Mrs. John Bradley (Florence Briggs Th...  female  38.0      1   \n",
       "2                             Heikkinen, Miss. Laina  female  26.0      0   \n",
       "3       Futrelle, Mrs. Jacques Heath (Lily May Peel)  female  35.0      1   \n",
       "4                           Allen, Mr. William Henry    male  35.0      0   \n",
       "\n",
       "   Parch            Ticket     Fare Cabin Embarked  \n",
       "0      0         A/5 21171   7.2500   NaN        S  \n",
       "1      0          PC 17599  71.2833   C85        C  \n",
       "2      0  STON/O2. 3101282   7.9250   NaN        S  \n",
       "3      0            113803  53.1000  C123        S  \n",
       "4      0            373450   8.0500   NaN        S  "
      ]
     },
     "execution_count": 3,
     "metadata": {},
     "output_type": "execute_result"
    }
   ],
   "source": [
    "# importando os dados .csv\n",
    "df = pd.read_csv('titanic-data-6.csv')\n",
    "df.head() # olhando os dados de uma forma geral"
   ]
  },
  {
   "cell_type": "code",
   "execution_count": 4,
   "metadata": {},
   "outputs": [
    {
     "data": {
      "text/plain": [
       "(891, 12)"
      ]
     },
     "execution_count": 4,
     "metadata": {},
     "output_type": "execute_result"
    }
   ],
   "source": [
    "# Analisando o número de linhas e colunas\n",
    "df.shape"
   ]
  },
  {
   "cell_type": "markdown",
   "metadata": {},
   "source": [
    "# Preparação e limpeza de dados"
   ]
  },
  {
   "cell_type": "markdown",
   "metadata": {},
   "source": [
    "Inicialmente vou verificar se não existem dados duplicados."
   ]
  },
  {
   "cell_type": "code",
   "execution_count": 5,
   "metadata": {},
   "outputs": [
    {
     "data": {
      "text/plain": [
       "0"
      ]
     },
     "execution_count": 5,
     "metadata": {},
     "output_type": "execute_result"
    }
   ],
   "source": [
    "df.duplicated().sum()"
   ]
  },
  {
   "cell_type": "markdown",
   "metadata": {},
   "source": [
    "Não foram encontradas linhas duplicadas sendo assim vou dar prosseguimento à análise de dados sem preocupações em estar analisando dados repetidos.\n",
    "\n",
    "O passo seguinte é analisar quais colunas não tem importância para o estudo.\n",
    "\n",
    "Aparentemente, a Coluna Embarked não parece ter muita utilidade, porém antes de removê-la vou verificar se ela tem relação com a classe dos passageiros."
   ]
  },
  {
   "cell_type": "code",
   "execution_count": 6,
   "metadata": {},
   "outputs": [
    {
     "data": {
      "text/plain": [
       "Pclass  Embarked\n",
       "1       S           127\n",
       "        C            85\n",
       "        Q             2\n",
       "2       S           164\n",
       "        C            17\n",
       "        Q             3\n",
       "3       S           353\n",
       "        Q            72\n",
       "        C            66\n",
       "Name: Embarked, dtype: int64"
      ]
     },
     "execution_count": 6,
     "metadata": {},
     "output_type": "execute_result"
    }
   ],
   "source": [
    "# verificando se a coluna Embarked está relacionada com a classe do bilhete\n",
    "df.groupby('Pclass')['Embarked'].value_counts()"
   ]
  },
  {
   "cell_type": "markdown",
   "metadata": {},
   "source": [
    "Em princípio, os 3 portões de embarque foram utilizados por todas as classes sem existir uma tendência forte, sendo assim não parece existir relação com quem tinha mais ou menos dinheiro. Agora vou comparar com os sobreviventes."
   ]
  },
  {
   "cell_type": "code",
   "execution_count": 7,
   "metadata": {},
   "outputs": [
    {
     "data": {
      "text/plain": [
       "Survived  Embarked\n",
       "0         S           427\n",
       "          C            75\n",
       "          Q            47\n",
       "1         S           217\n",
       "          C            93\n",
       "          Q            30\n",
       "Name: Embarked, dtype: int64"
      ]
     },
     "execution_count": 7,
     "metadata": {},
     "output_type": "execute_result"
    }
   ],
   "source": [
    "# verificando se a coluna Embarked está relacionada com os sobreviventes\n",
    "df.groupby('Survived')['Embarked'].value_counts()"
   ]
  },
  {
   "cell_type": "markdown",
   "metadata": {},
   "source": [
    "Novamente, não parece existir alguma tendência, dessa forma vou remover essa coluna. As colunas Ticket, Name e PassengerId são informações muito específicas de cada passageiro e não tem o porquê mostrar tendência sobre a pessoa ter sobrevivido ou não, sendo assim vou retirar essas colunas também."
   ]
  },
  {
   "cell_type": "code",
   "execution_count": 8,
   "metadata": {},
   "outputs": [],
   "source": [
    "# removendo as colunas: 'PassengerId', 'Name', 'Ticket', 'Embarked' \n",
    "df.drop(['PassengerId', 'Name', 'Ticket', 'Embarked'], axis=1, inplace=True)"
   ]
  },
  {
   "cell_type": "code",
   "execution_count": 9,
   "metadata": {},
   "outputs": [
    {
     "data": {
      "text/html": [
       "<div>\n",
       "<style scoped>\n",
       "    .dataframe tbody tr th:only-of-type {\n",
       "        vertical-align: middle;\n",
       "    }\n",
       "\n",
       "    .dataframe tbody tr th {\n",
       "        vertical-align: top;\n",
       "    }\n",
       "\n",
       "    .dataframe thead th {\n",
       "        text-align: right;\n",
       "    }\n",
       "</style>\n",
       "<table border=\"1\" class=\"dataframe\">\n",
       "  <thead>\n",
       "    <tr style=\"text-align: right;\">\n",
       "      <th></th>\n",
       "      <th>Survived</th>\n",
       "      <th>Pclass</th>\n",
       "      <th>Sex</th>\n",
       "      <th>Age</th>\n",
       "      <th>SibSp</th>\n",
       "      <th>Parch</th>\n",
       "      <th>Fare</th>\n",
       "      <th>Cabin</th>\n",
       "    </tr>\n",
       "  </thead>\n",
       "  <tbody>\n",
       "    <tr>\n",
       "      <th>0</th>\n",
       "      <td>0</td>\n",
       "      <td>3</td>\n",
       "      <td>male</td>\n",
       "      <td>22.0</td>\n",
       "      <td>1</td>\n",
       "      <td>0</td>\n",
       "      <td>7.2500</td>\n",
       "      <td>NaN</td>\n",
       "    </tr>\n",
       "    <tr>\n",
       "      <th>1</th>\n",
       "      <td>1</td>\n",
       "      <td>1</td>\n",
       "      <td>female</td>\n",
       "      <td>38.0</td>\n",
       "      <td>1</td>\n",
       "      <td>0</td>\n",
       "      <td>71.2833</td>\n",
       "      <td>C85</td>\n",
       "    </tr>\n",
       "    <tr>\n",
       "      <th>2</th>\n",
       "      <td>1</td>\n",
       "      <td>3</td>\n",
       "      <td>female</td>\n",
       "      <td>26.0</td>\n",
       "      <td>0</td>\n",
       "      <td>0</td>\n",
       "      <td>7.9250</td>\n",
       "      <td>NaN</td>\n",
       "    </tr>\n",
       "    <tr>\n",
       "      <th>3</th>\n",
       "      <td>1</td>\n",
       "      <td>1</td>\n",
       "      <td>female</td>\n",
       "      <td>35.0</td>\n",
       "      <td>1</td>\n",
       "      <td>0</td>\n",
       "      <td>53.1000</td>\n",
       "      <td>C123</td>\n",
       "    </tr>\n",
       "    <tr>\n",
       "      <th>4</th>\n",
       "      <td>0</td>\n",
       "      <td>3</td>\n",
       "      <td>male</td>\n",
       "      <td>35.0</td>\n",
       "      <td>0</td>\n",
       "      <td>0</td>\n",
       "      <td>8.0500</td>\n",
       "      <td>NaN</td>\n",
       "    </tr>\n",
       "  </tbody>\n",
       "</table>\n",
       "</div>"
      ],
      "text/plain": [
       "   Survived  Pclass     Sex   Age  SibSp  Parch     Fare Cabin\n",
       "0         0       3    male  22.0      1      0   7.2500   NaN\n",
       "1         1       1  female  38.0      1      0  71.2833   C85\n",
       "2         1       3  female  26.0      0      0   7.9250   NaN\n",
       "3         1       1  female  35.0      1      0  53.1000  C123\n",
       "4         0       3    male  35.0      0      0   8.0500   NaN"
      ]
     },
     "execution_count": 9,
     "metadata": {},
     "output_type": "execute_result"
    }
   ],
   "source": [
    "df.head() # verificando se as colunas foram removidas"
   ]
  },
  {
   "cell_type": "markdown",
   "metadata": {},
   "source": [
    "Agora, vou verificar os dados faltantes."
   ]
  },
  {
   "cell_type": "code",
   "execution_count": 10,
   "metadata": {},
   "outputs": [
    {
     "name": "stdout",
     "output_type": "stream",
     "text": [
      "<class 'pandas.core.frame.DataFrame'>\n",
      "RangeIndex: 891 entries, 0 to 890\n",
      "Data columns (total 8 columns):\n",
      "Survived    891 non-null int64\n",
      "Pclass      891 non-null int64\n",
      "Sex         891 non-null object\n",
      "Age         714 non-null float64\n",
      "SibSp       891 non-null int64\n",
      "Parch       891 non-null int64\n",
      "Fare        891 non-null float64\n",
      "Cabin       204 non-null object\n",
      "dtypes: float64(2), int64(4), object(2)\n",
      "memory usage: 55.8+ KB\n"
     ]
    }
   ],
   "source": [
    "# verificando se existe algum dado faltante\n",
    "df.info()"
   ]
  },
  {
   "cell_type": "code",
   "execution_count": 11,
   "metadata": {},
   "outputs": [
    {
     "data": {
      "text/plain": [
       "Survived      0\n",
       "Pclass        0\n",
       "Sex           0\n",
       "Age         177\n",
       "SibSp         0\n",
       "Parch         0\n",
       "Fare          0\n",
       "Cabin       687\n",
       "dtype: int64"
      ]
     },
     "execution_count": 11,
     "metadata": {},
     "output_type": "execute_result"
    }
   ],
   "source": [
    "# verificando quantos valores NaN existem.\n",
    "df.isnull().sum()"
   ]
  },
  {
   "cell_type": "markdown",
   "metadata": {},
   "source": [
    "Antes de remover ou preencher os dados faltantes, vou analisar caso a caso. Primeiramente, vou observar a coluna Cabin."
   ]
  },
  {
   "cell_type": "code",
   "execution_count": 12,
   "metadata": {},
   "outputs": [
    {
     "data": {
      "text/plain": [
       "Pclass\n",
       "1    176\n",
       "2     16\n",
       "3     12\n",
       "Name: Cabin, dtype: int64"
      ]
     },
     "execution_count": 12,
     "metadata": {},
     "output_type": "execute_result"
    }
   ],
   "source": [
    "# verificando se a coluna Cabin está relacionada com a classe do bilhete\n",
    "df.groupby('Pclass')['Cabin'].count()"
   ]
  },
  {
   "cell_type": "markdown",
   "metadata": {},
   "source": [
    "O número de passageiros da primeira classe com cabines é muito maior do que os da segunda e terceira classe. Aparentemente, essas duas últimas classes não possuiam cabines ou não eram demarcadas como as que aparecem identificadas comsiglas. Então os valores vazios vou preenche-los com strings vazias para não remover as linhas."
   ]
  },
  {
   "cell_type": "code",
   "execution_count": 13,
   "metadata": {},
   "outputs": [],
   "source": [
    "# preenchendo os espaços vazios com a string ' '.\n",
    "df['Cabin'].fillna(' ', inplace=True)"
   ]
  },
  {
   "cell_type": "code",
   "execution_count": 14,
   "metadata": {},
   "outputs": [
    {
     "data": {
      "text/plain": [
       "Survived      0\n",
       "Pclass        0\n",
       "Sex           0\n",
       "Age         177\n",
       "SibSp         0\n",
       "Parch         0\n",
       "Fare          0\n",
       "Cabin         0\n",
       "dtype: int64"
      ]
     },
     "execution_count": 14,
     "metadata": {},
     "output_type": "execute_result"
    }
   ],
   "source": [
    "# Verificando se deu certo\n",
    "df.isnull().sum()"
   ]
  },
  {
   "cell_type": "markdown",
   "metadata": {},
   "source": [
    "E, por fim, a coluna Age. Essa coluna também possui muitos valores faltantes e não posso apenas remover essas linhas sem entender o que está acontecendo, pois esta coluna pode sim fornecer alguma tendência."
   ]
  },
  {
   "cell_type": "code",
   "execution_count": 15,
   "metadata": {
    "scrolled": true
   },
   "outputs": [
    {
     "data": {
      "text/html": [
       "<div>\n",
       "<style scoped>\n",
       "    .dataframe tbody tr th:only-of-type {\n",
       "        vertical-align: middle;\n",
       "    }\n",
       "\n",
       "    .dataframe tbody tr th {\n",
       "        vertical-align: top;\n",
       "    }\n",
       "\n",
       "    .dataframe thead th {\n",
       "        text-align: right;\n",
       "    }\n",
       "</style>\n",
       "<table border=\"1\" class=\"dataframe\">\n",
       "  <thead>\n",
       "    <tr style=\"text-align: right;\">\n",
       "      <th></th>\n",
       "      <th>Survived</th>\n",
       "      <th>Pclass</th>\n",
       "      <th>Sex</th>\n",
       "      <th>Age</th>\n",
       "      <th>SibSp</th>\n",
       "      <th>Parch</th>\n",
       "      <th>Fare</th>\n",
       "      <th>Cabin</th>\n",
       "    </tr>\n",
       "  </thead>\n",
       "  <tbody>\n",
       "    <tr>\n",
       "      <th>5</th>\n",
       "      <td>0</td>\n",
       "      <td>3</td>\n",
       "      <td>male</td>\n",
       "      <td>NaN</td>\n",
       "      <td>0</td>\n",
       "      <td>0</td>\n",
       "      <td>8.4583</td>\n",
       "      <td></td>\n",
       "    </tr>\n",
       "    <tr>\n",
       "      <th>17</th>\n",
       "      <td>1</td>\n",
       "      <td>2</td>\n",
       "      <td>male</td>\n",
       "      <td>NaN</td>\n",
       "      <td>0</td>\n",
       "      <td>0</td>\n",
       "      <td>13.0000</td>\n",
       "      <td></td>\n",
       "    </tr>\n",
       "    <tr>\n",
       "      <th>19</th>\n",
       "      <td>1</td>\n",
       "      <td>3</td>\n",
       "      <td>female</td>\n",
       "      <td>NaN</td>\n",
       "      <td>0</td>\n",
       "      <td>0</td>\n",
       "      <td>7.2250</td>\n",
       "      <td></td>\n",
       "    </tr>\n",
       "    <tr>\n",
       "      <th>26</th>\n",
       "      <td>0</td>\n",
       "      <td>3</td>\n",
       "      <td>male</td>\n",
       "      <td>NaN</td>\n",
       "      <td>0</td>\n",
       "      <td>0</td>\n",
       "      <td>7.2250</td>\n",
       "      <td></td>\n",
       "    </tr>\n",
       "    <tr>\n",
       "      <th>28</th>\n",
       "      <td>1</td>\n",
       "      <td>3</td>\n",
       "      <td>female</td>\n",
       "      <td>NaN</td>\n",
       "      <td>0</td>\n",
       "      <td>0</td>\n",
       "      <td>7.8792</td>\n",
       "      <td></td>\n",
       "    </tr>\n",
       "    <tr>\n",
       "      <th>29</th>\n",
       "      <td>0</td>\n",
       "      <td>3</td>\n",
       "      <td>male</td>\n",
       "      <td>NaN</td>\n",
       "      <td>0</td>\n",
       "      <td>0</td>\n",
       "      <td>7.8958</td>\n",
       "      <td></td>\n",
       "    </tr>\n",
       "    <tr>\n",
       "      <th>31</th>\n",
       "      <td>1</td>\n",
       "      <td>1</td>\n",
       "      <td>female</td>\n",
       "      <td>NaN</td>\n",
       "      <td>1</td>\n",
       "      <td>0</td>\n",
       "      <td>146.5208</td>\n",
       "      <td>B78</td>\n",
       "    </tr>\n",
       "    <tr>\n",
       "      <th>32</th>\n",
       "      <td>1</td>\n",
       "      <td>3</td>\n",
       "      <td>female</td>\n",
       "      <td>NaN</td>\n",
       "      <td>0</td>\n",
       "      <td>0</td>\n",
       "      <td>7.7500</td>\n",
       "      <td></td>\n",
       "    </tr>\n",
       "    <tr>\n",
       "      <th>36</th>\n",
       "      <td>1</td>\n",
       "      <td>3</td>\n",
       "      <td>male</td>\n",
       "      <td>NaN</td>\n",
       "      <td>0</td>\n",
       "      <td>0</td>\n",
       "      <td>7.2292</td>\n",
       "      <td></td>\n",
       "    </tr>\n",
       "    <tr>\n",
       "      <th>42</th>\n",
       "      <td>0</td>\n",
       "      <td>3</td>\n",
       "      <td>male</td>\n",
       "      <td>NaN</td>\n",
       "      <td>0</td>\n",
       "      <td>0</td>\n",
       "      <td>7.8958</td>\n",
       "      <td></td>\n",
       "    </tr>\n",
       "    <tr>\n",
       "      <th>45</th>\n",
       "      <td>0</td>\n",
       "      <td>3</td>\n",
       "      <td>male</td>\n",
       "      <td>NaN</td>\n",
       "      <td>0</td>\n",
       "      <td>0</td>\n",
       "      <td>8.0500</td>\n",
       "      <td></td>\n",
       "    </tr>\n",
       "    <tr>\n",
       "      <th>46</th>\n",
       "      <td>0</td>\n",
       "      <td>3</td>\n",
       "      <td>male</td>\n",
       "      <td>NaN</td>\n",
       "      <td>1</td>\n",
       "      <td>0</td>\n",
       "      <td>15.5000</td>\n",
       "      <td></td>\n",
       "    </tr>\n",
       "    <tr>\n",
       "      <th>47</th>\n",
       "      <td>1</td>\n",
       "      <td>3</td>\n",
       "      <td>female</td>\n",
       "      <td>NaN</td>\n",
       "      <td>0</td>\n",
       "      <td>0</td>\n",
       "      <td>7.7500</td>\n",
       "      <td></td>\n",
       "    </tr>\n",
       "    <tr>\n",
       "      <th>48</th>\n",
       "      <td>0</td>\n",
       "      <td>3</td>\n",
       "      <td>male</td>\n",
       "      <td>NaN</td>\n",
       "      <td>2</td>\n",
       "      <td>0</td>\n",
       "      <td>21.6792</td>\n",
       "      <td></td>\n",
       "    </tr>\n",
       "    <tr>\n",
       "      <th>55</th>\n",
       "      <td>1</td>\n",
       "      <td>1</td>\n",
       "      <td>male</td>\n",
       "      <td>NaN</td>\n",
       "      <td>0</td>\n",
       "      <td>0</td>\n",
       "      <td>35.5000</td>\n",
       "      <td>C52</td>\n",
       "    </tr>\n",
       "    <tr>\n",
       "      <th>64</th>\n",
       "      <td>0</td>\n",
       "      <td>1</td>\n",
       "      <td>male</td>\n",
       "      <td>NaN</td>\n",
       "      <td>0</td>\n",
       "      <td>0</td>\n",
       "      <td>27.7208</td>\n",
       "      <td></td>\n",
       "    </tr>\n",
       "    <tr>\n",
       "      <th>65</th>\n",
       "      <td>1</td>\n",
       "      <td>3</td>\n",
       "      <td>male</td>\n",
       "      <td>NaN</td>\n",
       "      <td>1</td>\n",
       "      <td>1</td>\n",
       "      <td>15.2458</td>\n",
       "      <td></td>\n",
       "    </tr>\n",
       "    <tr>\n",
       "      <th>76</th>\n",
       "      <td>0</td>\n",
       "      <td>3</td>\n",
       "      <td>male</td>\n",
       "      <td>NaN</td>\n",
       "      <td>0</td>\n",
       "      <td>0</td>\n",
       "      <td>7.8958</td>\n",
       "      <td></td>\n",
       "    </tr>\n",
       "    <tr>\n",
       "      <th>77</th>\n",
       "      <td>0</td>\n",
       "      <td>3</td>\n",
       "      <td>male</td>\n",
       "      <td>NaN</td>\n",
       "      <td>0</td>\n",
       "      <td>0</td>\n",
       "      <td>8.0500</td>\n",
       "      <td></td>\n",
       "    </tr>\n",
       "    <tr>\n",
       "      <th>82</th>\n",
       "      <td>1</td>\n",
       "      <td>3</td>\n",
       "      <td>female</td>\n",
       "      <td>NaN</td>\n",
       "      <td>0</td>\n",
       "      <td>0</td>\n",
       "      <td>7.7875</td>\n",
       "      <td></td>\n",
       "    </tr>\n",
       "    <tr>\n",
       "      <th>87</th>\n",
       "      <td>0</td>\n",
       "      <td>3</td>\n",
       "      <td>male</td>\n",
       "      <td>NaN</td>\n",
       "      <td>0</td>\n",
       "      <td>0</td>\n",
       "      <td>8.0500</td>\n",
       "      <td></td>\n",
       "    </tr>\n",
       "    <tr>\n",
       "      <th>95</th>\n",
       "      <td>0</td>\n",
       "      <td>3</td>\n",
       "      <td>male</td>\n",
       "      <td>NaN</td>\n",
       "      <td>0</td>\n",
       "      <td>0</td>\n",
       "      <td>8.0500</td>\n",
       "      <td></td>\n",
       "    </tr>\n",
       "    <tr>\n",
       "      <th>101</th>\n",
       "      <td>0</td>\n",
       "      <td>3</td>\n",
       "      <td>male</td>\n",
       "      <td>NaN</td>\n",
       "      <td>0</td>\n",
       "      <td>0</td>\n",
       "      <td>7.8958</td>\n",
       "      <td></td>\n",
       "    </tr>\n",
       "    <tr>\n",
       "      <th>107</th>\n",
       "      <td>1</td>\n",
       "      <td>3</td>\n",
       "      <td>male</td>\n",
       "      <td>NaN</td>\n",
       "      <td>0</td>\n",
       "      <td>0</td>\n",
       "      <td>7.7750</td>\n",
       "      <td></td>\n",
       "    </tr>\n",
       "    <tr>\n",
       "      <th>109</th>\n",
       "      <td>1</td>\n",
       "      <td>3</td>\n",
       "      <td>female</td>\n",
       "      <td>NaN</td>\n",
       "      <td>1</td>\n",
       "      <td>0</td>\n",
       "      <td>24.1500</td>\n",
       "      <td></td>\n",
       "    </tr>\n",
       "    <tr>\n",
       "      <th>121</th>\n",
       "      <td>0</td>\n",
       "      <td>3</td>\n",
       "      <td>male</td>\n",
       "      <td>NaN</td>\n",
       "      <td>0</td>\n",
       "      <td>0</td>\n",
       "      <td>8.0500</td>\n",
       "      <td></td>\n",
       "    </tr>\n",
       "    <tr>\n",
       "      <th>126</th>\n",
       "      <td>0</td>\n",
       "      <td>3</td>\n",
       "      <td>male</td>\n",
       "      <td>NaN</td>\n",
       "      <td>0</td>\n",
       "      <td>0</td>\n",
       "      <td>7.7500</td>\n",
       "      <td></td>\n",
       "    </tr>\n",
       "    <tr>\n",
       "      <th>128</th>\n",
       "      <td>1</td>\n",
       "      <td>3</td>\n",
       "      <td>female</td>\n",
       "      <td>NaN</td>\n",
       "      <td>1</td>\n",
       "      <td>1</td>\n",
       "      <td>22.3583</td>\n",
       "      <td>F E69</td>\n",
       "    </tr>\n",
       "    <tr>\n",
       "      <th>140</th>\n",
       "      <td>0</td>\n",
       "      <td>3</td>\n",
       "      <td>female</td>\n",
       "      <td>NaN</td>\n",
       "      <td>0</td>\n",
       "      <td>2</td>\n",
       "      <td>15.2458</td>\n",
       "      <td></td>\n",
       "    </tr>\n",
       "    <tr>\n",
       "      <th>154</th>\n",
       "      <td>0</td>\n",
       "      <td>3</td>\n",
       "      <td>male</td>\n",
       "      <td>NaN</td>\n",
       "      <td>0</td>\n",
       "      <td>0</td>\n",
       "      <td>7.3125</td>\n",
       "      <td></td>\n",
       "    </tr>\n",
       "    <tr>\n",
       "      <th>...</th>\n",
       "      <td>...</td>\n",
       "      <td>...</td>\n",
       "      <td>...</td>\n",
       "      <td>...</td>\n",
       "      <td>...</td>\n",
       "      <td>...</td>\n",
       "      <td>...</td>\n",
       "      <td>...</td>\n",
       "    </tr>\n",
       "    <tr>\n",
       "      <th>718</th>\n",
       "      <td>0</td>\n",
       "      <td>3</td>\n",
       "      <td>male</td>\n",
       "      <td>NaN</td>\n",
       "      <td>0</td>\n",
       "      <td>0</td>\n",
       "      <td>15.5000</td>\n",
       "      <td></td>\n",
       "    </tr>\n",
       "    <tr>\n",
       "      <th>727</th>\n",
       "      <td>1</td>\n",
       "      <td>3</td>\n",
       "      <td>female</td>\n",
       "      <td>NaN</td>\n",
       "      <td>0</td>\n",
       "      <td>0</td>\n",
       "      <td>7.7375</td>\n",
       "      <td></td>\n",
       "    </tr>\n",
       "    <tr>\n",
       "      <th>732</th>\n",
       "      <td>0</td>\n",
       "      <td>2</td>\n",
       "      <td>male</td>\n",
       "      <td>NaN</td>\n",
       "      <td>0</td>\n",
       "      <td>0</td>\n",
       "      <td>0.0000</td>\n",
       "      <td></td>\n",
       "    </tr>\n",
       "    <tr>\n",
       "      <th>738</th>\n",
       "      <td>0</td>\n",
       "      <td>3</td>\n",
       "      <td>male</td>\n",
       "      <td>NaN</td>\n",
       "      <td>0</td>\n",
       "      <td>0</td>\n",
       "      <td>7.8958</td>\n",
       "      <td></td>\n",
       "    </tr>\n",
       "    <tr>\n",
       "      <th>739</th>\n",
       "      <td>0</td>\n",
       "      <td>3</td>\n",
       "      <td>male</td>\n",
       "      <td>NaN</td>\n",
       "      <td>0</td>\n",
       "      <td>0</td>\n",
       "      <td>7.8958</td>\n",
       "      <td></td>\n",
       "    </tr>\n",
       "    <tr>\n",
       "      <th>740</th>\n",
       "      <td>1</td>\n",
       "      <td>1</td>\n",
       "      <td>male</td>\n",
       "      <td>NaN</td>\n",
       "      <td>0</td>\n",
       "      <td>0</td>\n",
       "      <td>30.0000</td>\n",
       "      <td>D45</td>\n",
       "    </tr>\n",
       "    <tr>\n",
       "      <th>760</th>\n",
       "      <td>0</td>\n",
       "      <td>3</td>\n",
       "      <td>male</td>\n",
       "      <td>NaN</td>\n",
       "      <td>0</td>\n",
       "      <td>0</td>\n",
       "      <td>14.5000</td>\n",
       "      <td></td>\n",
       "    </tr>\n",
       "    <tr>\n",
       "      <th>766</th>\n",
       "      <td>0</td>\n",
       "      <td>1</td>\n",
       "      <td>male</td>\n",
       "      <td>NaN</td>\n",
       "      <td>0</td>\n",
       "      <td>0</td>\n",
       "      <td>39.6000</td>\n",
       "      <td></td>\n",
       "    </tr>\n",
       "    <tr>\n",
       "      <th>768</th>\n",
       "      <td>0</td>\n",
       "      <td>3</td>\n",
       "      <td>male</td>\n",
       "      <td>NaN</td>\n",
       "      <td>1</td>\n",
       "      <td>0</td>\n",
       "      <td>24.1500</td>\n",
       "      <td></td>\n",
       "    </tr>\n",
       "    <tr>\n",
       "      <th>773</th>\n",
       "      <td>0</td>\n",
       "      <td>3</td>\n",
       "      <td>male</td>\n",
       "      <td>NaN</td>\n",
       "      <td>0</td>\n",
       "      <td>0</td>\n",
       "      <td>7.2250</td>\n",
       "      <td></td>\n",
       "    </tr>\n",
       "    <tr>\n",
       "      <th>776</th>\n",
       "      <td>0</td>\n",
       "      <td>3</td>\n",
       "      <td>male</td>\n",
       "      <td>NaN</td>\n",
       "      <td>0</td>\n",
       "      <td>0</td>\n",
       "      <td>7.7500</td>\n",
       "      <td>F38</td>\n",
       "    </tr>\n",
       "    <tr>\n",
       "      <th>778</th>\n",
       "      <td>0</td>\n",
       "      <td>3</td>\n",
       "      <td>male</td>\n",
       "      <td>NaN</td>\n",
       "      <td>0</td>\n",
       "      <td>0</td>\n",
       "      <td>7.7375</td>\n",
       "      <td></td>\n",
       "    </tr>\n",
       "    <tr>\n",
       "      <th>783</th>\n",
       "      <td>0</td>\n",
       "      <td>3</td>\n",
       "      <td>male</td>\n",
       "      <td>NaN</td>\n",
       "      <td>1</td>\n",
       "      <td>2</td>\n",
       "      <td>23.4500</td>\n",
       "      <td></td>\n",
       "    </tr>\n",
       "    <tr>\n",
       "      <th>790</th>\n",
       "      <td>0</td>\n",
       "      <td>3</td>\n",
       "      <td>male</td>\n",
       "      <td>NaN</td>\n",
       "      <td>0</td>\n",
       "      <td>0</td>\n",
       "      <td>7.7500</td>\n",
       "      <td></td>\n",
       "    </tr>\n",
       "    <tr>\n",
       "      <th>792</th>\n",
       "      <td>0</td>\n",
       "      <td>3</td>\n",
       "      <td>female</td>\n",
       "      <td>NaN</td>\n",
       "      <td>8</td>\n",
       "      <td>2</td>\n",
       "      <td>69.5500</td>\n",
       "      <td></td>\n",
       "    </tr>\n",
       "    <tr>\n",
       "      <th>793</th>\n",
       "      <td>0</td>\n",
       "      <td>1</td>\n",
       "      <td>male</td>\n",
       "      <td>NaN</td>\n",
       "      <td>0</td>\n",
       "      <td>0</td>\n",
       "      <td>30.6958</td>\n",
       "      <td></td>\n",
       "    </tr>\n",
       "    <tr>\n",
       "      <th>815</th>\n",
       "      <td>0</td>\n",
       "      <td>1</td>\n",
       "      <td>male</td>\n",
       "      <td>NaN</td>\n",
       "      <td>0</td>\n",
       "      <td>0</td>\n",
       "      <td>0.0000</td>\n",
       "      <td>B102</td>\n",
       "    </tr>\n",
       "    <tr>\n",
       "      <th>825</th>\n",
       "      <td>0</td>\n",
       "      <td>3</td>\n",
       "      <td>male</td>\n",
       "      <td>NaN</td>\n",
       "      <td>0</td>\n",
       "      <td>0</td>\n",
       "      <td>6.9500</td>\n",
       "      <td></td>\n",
       "    </tr>\n",
       "    <tr>\n",
       "      <th>826</th>\n",
       "      <td>0</td>\n",
       "      <td>3</td>\n",
       "      <td>male</td>\n",
       "      <td>NaN</td>\n",
       "      <td>0</td>\n",
       "      <td>0</td>\n",
       "      <td>56.4958</td>\n",
       "      <td></td>\n",
       "    </tr>\n",
       "    <tr>\n",
       "      <th>828</th>\n",
       "      <td>1</td>\n",
       "      <td>3</td>\n",
       "      <td>male</td>\n",
       "      <td>NaN</td>\n",
       "      <td>0</td>\n",
       "      <td>0</td>\n",
       "      <td>7.7500</td>\n",
       "      <td></td>\n",
       "    </tr>\n",
       "    <tr>\n",
       "      <th>832</th>\n",
       "      <td>0</td>\n",
       "      <td>3</td>\n",
       "      <td>male</td>\n",
       "      <td>NaN</td>\n",
       "      <td>0</td>\n",
       "      <td>0</td>\n",
       "      <td>7.2292</td>\n",
       "      <td></td>\n",
       "    </tr>\n",
       "    <tr>\n",
       "      <th>837</th>\n",
       "      <td>0</td>\n",
       "      <td>3</td>\n",
       "      <td>male</td>\n",
       "      <td>NaN</td>\n",
       "      <td>0</td>\n",
       "      <td>0</td>\n",
       "      <td>8.0500</td>\n",
       "      <td></td>\n",
       "    </tr>\n",
       "    <tr>\n",
       "      <th>839</th>\n",
       "      <td>1</td>\n",
       "      <td>1</td>\n",
       "      <td>male</td>\n",
       "      <td>NaN</td>\n",
       "      <td>0</td>\n",
       "      <td>0</td>\n",
       "      <td>29.7000</td>\n",
       "      <td>C47</td>\n",
       "    </tr>\n",
       "    <tr>\n",
       "      <th>846</th>\n",
       "      <td>0</td>\n",
       "      <td>3</td>\n",
       "      <td>male</td>\n",
       "      <td>NaN</td>\n",
       "      <td>8</td>\n",
       "      <td>2</td>\n",
       "      <td>69.5500</td>\n",
       "      <td></td>\n",
       "    </tr>\n",
       "    <tr>\n",
       "      <th>849</th>\n",
       "      <td>1</td>\n",
       "      <td>1</td>\n",
       "      <td>female</td>\n",
       "      <td>NaN</td>\n",
       "      <td>1</td>\n",
       "      <td>0</td>\n",
       "      <td>89.1042</td>\n",
       "      <td>C92</td>\n",
       "    </tr>\n",
       "    <tr>\n",
       "      <th>859</th>\n",
       "      <td>0</td>\n",
       "      <td>3</td>\n",
       "      <td>male</td>\n",
       "      <td>NaN</td>\n",
       "      <td>0</td>\n",
       "      <td>0</td>\n",
       "      <td>7.2292</td>\n",
       "      <td></td>\n",
       "    </tr>\n",
       "    <tr>\n",
       "      <th>863</th>\n",
       "      <td>0</td>\n",
       "      <td>3</td>\n",
       "      <td>female</td>\n",
       "      <td>NaN</td>\n",
       "      <td>8</td>\n",
       "      <td>2</td>\n",
       "      <td>69.5500</td>\n",
       "      <td></td>\n",
       "    </tr>\n",
       "    <tr>\n",
       "      <th>868</th>\n",
       "      <td>0</td>\n",
       "      <td>3</td>\n",
       "      <td>male</td>\n",
       "      <td>NaN</td>\n",
       "      <td>0</td>\n",
       "      <td>0</td>\n",
       "      <td>9.5000</td>\n",
       "      <td></td>\n",
       "    </tr>\n",
       "    <tr>\n",
       "      <th>878</th>\n",
       "      <td>0</td>\n",
       "      <td>3</td>\n",
       "      <td>male</td>\n",
       "      <td>NaN</td>\n",
       "      <td>0</td>\n",
       "      <td>0</td>\n",
       "      <td>7.8958</td>\n",
       "      <td></td>\n",
       "    </tr>\n",
       "    <tr>\n",
       "      <th>888</th>\n",
       "      <td>0</td>\n",
       "      <td>3</td>\n",
       "      <td>female</td>\n",
       "      <td>NaN</td>\n",
       "      <td>1</td>\n",
       "      <td>2</td>\n",
       "      <td>23.4500</td>\n",
       "      <td></td>\n",
       "    </tr>\n",
       "  </tbody>\n",
       "</table>\n",
       "<p>177 rows × 8 columns</p>\n",
       "</div>"
      ],
      "text/plain": [
       "     Survived  Pclass     Sex  Age  SibSp  Parch      Fare  Cabin\n",
       "5           0       3    male  NaN      0      0    8.4583       \n",
       "17          1       2    male  NaN      0      0   13.0000       \n",
       "19          1       3  female  NaN      0      0    7.2250       \n",
       "26          0       3    male  NaN      0      0    7.2250       \n",
       "28          1       3  female  NaN      0      0    7.8792       \n",
       "29          0       3    male  NaN      0      0    7.8958       \n",
       "31          1       1  female  NaN      1      0  146.5208    B78\n",
       "32          1       3  female  NaN      0      0    7.7500       \n",
       "36          1       3    male  NaN      0      0    7.2292       \n",
       "42          0       3    male  NaN      0      0    7.8958       \n",
       "45          0       3    male  NaN      0      0    8.0500       \n",
       "46          0       3    male  NaN      1      0   15.5000       \n",
       "47          1       3  female  NaN      0      0    7.7500       \n",
       "48          0       3    male  NaN      2      0   21.6792       \n",
       "55          1       1    male  NaN      0      0   35.5000    C52\n",
       "64          0       1    male  NaN      0      0   27.7208       \n",
       "65          1       3    male  NaN      1      1   15.2458       \n",
       "76          0       3    male  NaN      0      0    7.8958       \n",
       "77          0       3    male  NaN      0      0    8.0500       \n",
       "82          1       3  female  NaN      0      0    7.7875       \n",
       "87          0       3    male  NaN      0      0    8.0500       \n",
       "95          0       3    male  NaN      0      0    8.0500       \n",
       "101         0       3    male  NaN      0      0    7.8958       \n",
       "107         1       3    male  NaN      0      0    7.7750       \n",
       "109         1       3  female  NaN      1      0   24.1500       \n",
       "121         0       3    male  NaN      0      0    8.0500       \n",
       "126         0       3    male  NaN      0      0    7.7500       \n",
       "128         1       3  female  NaN      1      1   22.3583  F E69\n",
       "140         0       3  female  NaN      0      2   15.2458       \n",
       "154         0       3    male  NaN      0      0    7.3125       \n",
       "..        ...     ...     ...  ...    ...    ...       ...    ...\n",
       "718         0       3    male  NaN      0      0   15.5000       \n",
       "727         1       3  female  NaN      0      0    7.7375       \n",
       "732         0       2    male  NaN      0      0    0.0000       \n",
       "738         0       3    male  NaN      0      0    7.8958       \n",
       "739         0       3    male  NaN      0      0    7.8958       \n",
       "740         1       1    male  NaN      0      0   30.0000    D45\n",
       "760         0       3    male  NaN      0      0   14.5000       \n",
       "766         0       1    male  NaN      0      0   39.6000       \n",
       "768         0       3    male  NaN      1      0   24.1500       \n",
       "773         0       3    male  NaN      0      0    7.2250       \n",
       "776         0       3    male  NaN      0      0    7.7500    F38\n",
       "778         0       3    male  NaN      0      0    7.7375       \n",
       "783         0       3    male  NaN      1      2   23.4500       \n",
       "790         0       3    male  NaN      0      0    7.7500       \n",
       "792         0       3  female  NaN      8      2   69.5500       \n",
       "793         0       1    male  NaN      0      0   30.6958       \n",
       "815         0       1    male  NaN      0      0    0.0000   B102\n",
       "825         0       3    male  NaN      0      0    6.9500       \n",
       "826         0       3    male  NaN      0      0   56.4958       \n",
       "828         1       3    male  NaN      0      0    7.7500       \n",
       "832         0       3    male  NaN      0      0    7.2292       \n",
       "837         0       3    male  NaN      0      0    8.0500       \n",
       "839         1       1    male  NaN      0      0   29.7000    C47\n",
       "846         0       3    male  NaN      8      2   69.5500       \n",
       "849         1       1  female  NaN      1      0   89.1042    C92\n",
       "859         0       3    male  NaN      0      0    7.2292       \n",
       "863         0       3  female  NaN      8      2   69.5500       \n",
       "868         0       3    male  NaN      0      0    9.5000       \n",
       "878         0       3    male  NaN      0      0    7.8958       \n",
       "888         0       3  female  NaN      1      2   23.4500       \n",
       "\n",
       "[177 rows x 8 columns]"
      ]
     },
     "execution_count": 15,
     "metadata": {},
     "output_type": "execute_result"
    }
   ],
   "source": [
    "# visualização inicial da coluna Age com dados NaN\n",
    "df[df.Age.isnull()]"
   ]
  },
  {
   "cell_type": "markdown",
   "metadata": {},
   "source": [
    "Olhando apenas a tabela acima não é possível concluir alguma coisa, então vou usar histogramas para ver a estrutura desses dados."
   ]
  },
  {
   "cell_type": "code",
   "execution_count": 16,
   "metadata": {},
   "outputs": [
    {
     "data": {
      "image/png": "[encoded data removed]",
      "text/plain": [
       "<Figure size 576x576 with 6 Axes>"
      ]
     },
     "metadata": {
      "needs_background": "light"
     },
     "output_type": "display_data"
    }
   ],
   "source": [
    "df[df.Age.isnull()].hist(figsize=(8,8), bins=20);"
   ]
  },
  {
   "cell_type": "markdown",
   "metadata": {},
   "source": [
    "Fazendo uma análise de gráfico por gráfico, temos:\n",
    "1. A primeira figura (Age) aparece vazia porque estou analisando a coluna idades com linhas vazias. \n",
    "2. A segunda (Fare) mostra que a maioria dos passageiros são os que pagaram menos tarifa, provavelmente a terceira classe. \n",
    "3. A terceira (Parch) mostra que a maioria das pessoas não estavam com pais e filhos. \n",
    "4. A quarta (Pclass) mostra que a maioria era da terceira classe e confirma a informação da segunda figura, em que a maioria pagou menos tarifa.\n",
    "5. A quinta (SibSp) mostra que a maioria não possui a irmãos e conjuges. \n",
    "6. A maioria não sobreviveu.\n",
    "\n",
    "Desses histogramas, é possível obter algumas tendências. Daqui é possível dizer que a maioria desses passageiros eram de classe baixa, sem família e não sobreviveram. Então, para não retirar essas linhas vou preenchê-los com a idade média dos passageiros, pois assim não perco informação de ninguém."
   ]
  },
  {
   "cell_type": "code",
   "execution_count": 17,
   "metadata": {},
   "outputs": [],
   "source": [
    "# Como só a coluna Age está vazia vou preenche-la sem especificar a coluna\n",
    "df.fillna(df.mean(), inplace=True)"
   ]
  },
  {
   "cell_type": "code",
   "execution_count": 18,
   "metadata": {},
   "outputs": [
    {
     "name": "stdout",
     "output_type": "stream",
     "text": [
      "<class 'pandas.core.frame.DataFrame'>\n",
      "RangeIndex: 891 entries, 0 to 890\n",
      "Data columns (total 8 columns):\n",
      "Survived    891 non-null int64\n",
      "Pclass      891 non-null int64\n",
      "Sex         891 non-null object\n",
      "Age         891 non-null float64\n",
      "SibSp       891 non-null int64\n",
      "Parch       891 non-null int64\n",
      "Fare        891 non-null float64\n",
      "Cabin       891 non-null object\n",
      "dtypes: float64(2), int64(4), object(2)\n",
      "memory usage: 55.8+ KB\n"
     ]
    }
   ],
   "source": [
    "# verificando se os dados foram preenchidos\n",
    "df.info()"
   ]
  },
  {
   "cell_type": "markdown",
   "metadata": {},
   "source": [
    "Até agora foi verificado se existiam dados duplicados e dados faltantes. Não foi encontrado linhas duplicadas e os dados faltantes foram resolvidos. Então daqui em diante vou dar início a análise dos dados."
   ]
  },
  {
   "cell_type": "markdown",
   "metadata": {},
   "source": [
    "# Análise de dados\n",
    "\n",
    "Basicamente, utilizarei histogramas e estatística básica para fazer uma análise inicial dos dados."
   ]
  },
  {
   "cell_type": "code",
   "execution_count": 19,
   "metadata": {},
   "outputs": [
    {
     "data": {
      "image/png": "[encoded data removed]",
      "text/plain": [
       "<Figure size 792x792 with 6 Axes>"
      ]
     },
     "metadata": {
      "needs_background": "light"
     },
     "output_type": "display_data"
    }
   ],
   "source": [
    "df.hist(figsize=(11,11), bins=25);"
   ]
  },
  {
   "cell_type": "markdown",
   "metadata": {},
   "source": [
    "Dos histogramas temos que:\n",
    "\n",
    "1. (Age) - Neste histograma temos que a maioria dos passageiros tinham idade por volta de 30 anos.\n",
    "2. (Fare) - A maioria dos passageiros pagou um preço baixo na tarifa.\n",
    "3. (Parch) - A grande maioria dos passageiros estava sem pais e filhos.\n",
    "4. (Pclass) - Aparentemente, mais de 50% era da terceira classe.\n",
    "5. (SibSp) - Muitos passageiros estavam desacompanhados de irmãos e cônjuges.\n",
    "6. (Survived) - Quase o dobro de passageiros não sobreviveu ao naufrago.\n",
    "\n",
    "E, para quantificar os dados, uma análise de estatística básica será apresentada abaixo:"
   ]
  },
  {
   "cell_type": "code",
   "execution_count": 20,
   "metadata": {},
   "outputs": [
    {
     "data": {
      "text/html": [
       "<div>\n",
       "<style scoped>\n",
       "    .dataframe tbody tr th:only-of-type {\n",
       "        vertical-align: middle;\n",
       "    }\n",
       "\n",
       "    .dataframe tbody tr th {\n",
       "        vertical-align: top;\n",
       "    }\n",
       "\n",
       "    .dataframe thead th {\n",
       "        text-align: right;\n",
       "    }\n",
       "</style>\n",
       "<table border=\"1\" class=\"dataframe\">\n",
       "  <thead>\n",
       "    <tr style=\"text-align: right;\">\n",
       "      <th></th>\n",
       "      <th>Survived</th>\n",
       "      <th>Pclass</th>\n",
       "      <th>Age</th>\n",
       "      <th>SibSp</th>\n",
       "      <th>Parch</th>\n",
       "      <th>Fare</th>\n",
       "    </tr>\n",
       "  </thead>\n",
       "  <tbody>\n",
       "    <tr>\n",
       "      <th>count</th>\n",
       "      <td>891.000000</td>\n",
       "      <td>891.000000</td>\n",
       "      <td>891.000000</td>\n",
       "      <td>891.000000</td>\n",
       "      <td>891.000000</td>\n",
       "      <td>891.000000</td>\n",
       "    </tr>\n",
       "    <tr>\n",
       "      <th>mean</th>\n",
       "      <td>0.383838</td>\n",
       "      <td>2.308642</td>\n",
       "      <td>29.699118</td>\n",
       "      <td>0.523008</td>\n",
       "      <td>0.381594</td>\n",
       "      <td>32.204208</td>\n",
       "    </tr>\n",
       "    <tr>\n",
       "      <th>std</th>\n",
       "      <td>0.486592</td>\n",
       "      <td>0.836071</td>\n",
       "      <td>13.002015</td>\n",
       "      <td>1.102743</td>\n",
       "      <td>0.806057</td>\n",
       "      <td>49.693429</td>\n",
       "    </tr>\n",
       "    <tr>\n",
       "      <th>min</th>\n",
       "      <td>0.000000</td>\n",
       "      <td>1.000000</td>\n",
       "      <td>0.420000</td>\n",
       "      <td>0.000000</td>\n",
       "      <td>0.000000</td>\n",
       "      <td>0.000000</td>\n",
       "    </tr>\n",
       "    <tr>\n",
       "      <th>25%</th>\n",
       "      <td>0.000000</td>\n",
       "      <td>2.000000</td>\n",
       "      <td>22.000000</td>\n",
       "      <td>0.000000</td>\n",
       "      <td>0.000000</td>\n",
       "      <td>7.910400</td>\n",
       "    </tr>\n",
       "    <tr>\n",
       "      <th>50%</th>\n",
       "      <td>0.000000</td>\n",
       "      <td>3.000000</td>\n",
       "      <td>29.699118</td>\n",
       "      <td>0.000000</td>\n",
       "      <td>0.000000</td>\n",
       "      <td>14.454200</td>\n",
       "    </tr>\n",
       "    <tr>\n",
       "      <th>75%</th>\n",
       "      <td>1.000000</td>\n",
       "      <td>3.000000</td>\n",
       "      <td>35.000000</td>\n",
       "      <td>1.000000</td>\n",
       "      <td>0.000000</td>\n",
       "      <td>31.000000</td>\n",
       "    </tr>\n",
       "    <tr>\n",
       "      <th>max</th>\n",
       "      <td>1.000000</td>\n",
       "      <td>3.000000</td>\n",
       "      <td>80.000000</td>\n",
       "      <td>8.000000</td>\n",
       "      <td>6.000000</td>\n",
       "      <td>512.329200</td>\n",
       "    </tr>\n",
       "  </tbody>\n",
       "</table>\n",
       "</div>"
      ],
      "text/plain": [
       "         Survived      Pclass         Age       SibSp       Parch        Fare\n",
       "count  891.000000  891.000000  891.000000  891.000000  891.000000  891.000000\n",
       "mean     0.383838    2.308642   29.699118    0.523008    0.381594   32.204208\n",
       "std      0.486592    0.836071   13.002015    1.102743    0.806057   49.693429\n",
       "min      0.000000    1.000000    0.420000    0.000000    0.000000    0.000000\n",
       "25%      0.000000    2.000000   22.000000    0.000000    0.000000    7.910400\n",
       "50%      0.000000    3.000000   29.699118    0.000000    0.000000   14.454200\n",
       "75%      1.000000    3.000000   35.000000    1.000000    0.000000   31.000000\n",
       "max      1.000000    3.000000   80.000000    8.000000    6.000000  512.329200"
      ]
     },
     "execution_count": 20,
     "metadata": {},
     "output_type": "execute_result"
    }
   ],
   "source": [
    "df.describe()"
   ]
  },
  {
   "cell_type": "markdown",
   "metadata": {},
   "source": [
    "Para os sobreviventes, temos que 38% dos passageiros sobreviveram. A coluna Pclass não faz sentido ser analisada, pois não tem significado físico. Das idades, temos desde bebês (0,42 anos ou ~4 meses) a idosos (80 anos), onde a maioria das pessoas tem entre 22 e 35 anos. Vale lembrar que os valores da coluna Age vazios foram preenchidos com a média das idades, por isso o valor de 29,7 aparece com tanto destaque no histograma. Basicamente, as passoas estavam desacompanhadas de família, porém algumas pessoas estavam com muitos irmãos e/ou muitos filhos. Quanto a tarifa, elas tiveram destaque entre 8 e 31 da moeda utilizada na época, porém alguns não pagaram e alguns pagaram muito (512)."
   ]
  },
  {
   "cell_type": "markdown",
   "metadata": {},
   "source": [
    "## Primeira pergunta é: Qual a proporção entre homens e mulheres sobreviventes?"
   ]
  },
  {
   "cell_type": "markdown",
   "metadata": {},
   "source": [
    "Para responder a essa pergunta, vou separar os dados em sobreviventes e não-sobreviventes."
   ]
  },
  {
   "cell_type": "code",
   "execution_count": 22,
   "metadata": {},
   "outputs": [],
   "source": [
    "survived = df.query('Survived == 1')\n",
    "died =df.query('Survived == 0')"
   ]
  },
  {
   "cell_type": "code",
   "execution_count": 23,
   "metadata": {},
   "outputs": [
    {
     "data": {
      "text/html": [
       "<div>\n",
       "<style scoped>\n",
       "    .dataframe tbody tr th:only-of-type {\n",
       "        vertical-align: middle;\n",
       "    }\n",
       "\n",
       "    .dataframe tbody tr th {\n",
       "        vertical-align: top;\n",
       "    }\n",
       "\n",
       "    .dataframe thead th {\n",
       "        text-align: right;\n",
       "    }\n",
       "</style>\n",
       "<table border=\"1\" class=\"dataframe\">\n",
       "  <thead>\n",
       "    <tr style=\"text-align: right;\">\n",
       "      <th></th>\n",
       "      <th>Survived</th>\n",
       "      <th>Pclass</th>\n",
       "      <th>Sex</th>\n",
       "      <th>Age</th>\n",
       "      <th>SibSp</th>\n",
       "      <th>Parch</th>\n",
       "      <th>Fare</th>\n",
       "      <th>Cabin</th>\n",
       "    </tr>\n",
       "  </thead>\n",
       "  <tbody>\n",
       "    <tr>\n",
       "      <th>1</th>\n",
       "      <td>1</td>\n",
       "      <td>1</td>\n",
       "      <td>female</td>\n",
       "      <td>38.0</td>\n",
       "      <td>1</td>\n",
       "      <td>0</td>\n",
       "      <td>71.2833</td>\n",
       "      <td>C85</td>\n",
       "    </tr>\n",
       "    <tr>\n",
       "      <th>2</th>\n",
       "      <td>1</td>\n",
       "      <td>3</td>\n",
       "      <td>female</td>\n",
       "      <td>26.0</td>\n",
       "      <td>0</td>\n",
       "      <td>0</td>\n",
       "      <td>7.9250</td>\n",
       "      <td></td>\n",
       "    </tr>\n",
       "    <tr>\n",
       "      <th>3</th>\n",
       "      <td>1</td>\n",
       "      <td>1</td>\n",
       "      <td>female</td>\n",
       "      <td>35.0</td>\n",
       "      <td>1</td>\n",
       "      <td>0</td>\n",
       "      <td>53.1000</td>\n",
       "      <td>C123</td>\n",
       "    </tr>\n",
       "    <tr>\n",
       "      <th>8</th>\n",
       "      <td>1</td>\n",
       "      <td>3</td>\n",
       "      <td>female</td>\n",
       "      <td>27.0</td>\n",
       "      <td>0</td>\n",
       "      <td>2</td>\n",
       "      <td>11.1333</td>\n",
       "      <td></td>\n",
       "    </tr>\n",
       "    <tr>\n",
       "      <th>9</th>\n",
       "      <td>1</td>\n",
       "      <td>2</td>\n",
       "      <td>female</td>\n",
       "      <td>14.0</td>\n",
       "      <td>1</td>\n",
       "      <td>0</td>\n",
       "      <td>30.0708</td>\n",
       "      <td></td>\n",
       "    </tr>\n",
       "  </tbody>\n",
       "</table>\n",
       "</div>"
      ],
      "text/plain": [
       "   Survived  Pclass     Sex   Age  SibSp  Parch     Fare Cabin\n",
       "1         1       1  female  38.0      1      0  71.2833   C85\n",
       "2         1       3  female  26.0      0      0   7.9250      \n",
       "3         1       1  female  35.0      1      0  53.1000  C123\n",
       "8         1       3  female  27.0      0      2  11.1333      \n",
       "9         1       2  female  14.0      1      0  30.0708      "
      ]
     },
     "execution_count": 23,
     "metadata": {},
     "output_type": "execute_result"
    }
   ],
   "source": [
    "survived.head() # conferindo os dados"
   ]
  },
  {
   "cell_type": "code",
   "execution_count": 24,
   "metadata": {},
   "outputs": [
    {
     "data": {
      "text/html": [
       "<div>\n",
       "<style scoped>\n",
       "    .dataframe tbody tr th:only-of-type {\n",
       "        vertical-align: middle;\n",
       "    }\n",
       "\n",
       "    .dataframe tbody tr th {\n",
       "        vertical-align: top;\n",
       "    }\n",
       "\n",
       "    .dataframe thead th {\n",
       "        text-align: right;\n",
       "    }\n",
       "</style>\n",
       "<table border=\"1\" class=\"dataframe\">\n",
       "  <thead>\n",
       "    <tr style=\"text-align: right;\">\n",
       "      <th></th>\n",
       "      <th>Survived</th>\n",
       "      <th>Pclass</th>\n",
       "      <th>Sex</th>\n",
       "      <th>Age</th>\n",
       "      <th>SibSp</th>\n",
       "      <th>Parch</th>\n",
       "      <th>Fare</th>\n",
       "      <th>Cabin</th>\n",
       "    </tr>\n",
       "  </thead>\n",
       "  <tbody>\n",
       "    <tr>\n",
       "      <th>0</th>\n",
       "      <td>0</td>\n",
       "      <td>3</td>\n",
       "      <td>male</td>\n",
       "      <td>22.000000</td>\n",
       "      <td>1</td>\n",
       "      <td>0</td>\n",
       "      <td>7.2500</td>\n",
       "      <td></td>\n",
       "    </tr>\n",
       "    <tr>\n",
       "      <th>4</th>\n",
       "      <td>0</td>\n",
       "      <td>3</td>\n",
       "      <td>male</td>\n",
       "      <td>35.000000</td>\n",
       "      <td>0</td>\n",
       "      <td>0</td>\n",
       "      <td>8.0500</td>\n",
       "      <td></td>\n",
       "    </tr>\n",
       "    <tr>\n",
       "      <th>5</th>\n",
       "      <td>0</td>\n",
       "      <td>3</td>\n",
       "      <td>male</td>\n",
       "      <td>29.699118</td>\n",
       "      <td>0</td>\n",
       "      <td>0</td>\n",
       "      <td>8.4583</td>\n",
       "      <td></td>\n",
       "    </tr>\n",
       "    <tr>\n",
       "      <th>6</th>\n",
       "      <td>0</td>\n",
       "      <td>1</td>\n",
       "      <td>male</td>\n",
       "      <td>54.000000</td>\n",
       "      <td>0</td>\n",
       "      <td>0</td>\n",
       "      <td>51.8625</td>\n",
       "      <td>E46</td>\n",
       "    </tr>\n",
       "    <tr>\n",
       "      <th>7</th>\n",
       "      <td>0</td>\n",
       "      <td>3</td>\n",
       "      <td>male</td>\n",
       "      <td>2.000000</td>\n",
       "      <td>3</td>\n",
       "      <td>1</td>\n",
       "      <td>21.0750</td>\n",
       "      <td></td>\n",
       "    </tr>\n",
       "  </tbody>\n",
       "</table>\n",
       "</div>"
      ],
      "text/plain": [
       "   Survived  Pclass   Sex        Age  SibSp  Parch     Fare Cabin\n",
       "0         0       3  male  22.000000      1      0   7.2500      \n",
       "4         0       3  male  35.000000      0      0   8.0500      \n",
       "5         0       3  male  29.699118      0      0   8.4583      \n",
       "6         0       1  male  54.000000      0      0  51.8625   E46\n",
       "7         0       3  male   2.000000      3      1  21.0750      "
      ]
     },
     "execution_count": 24,
     "metadata": {},
     "output_type": "execute_result"
    }
   ],
   "source": [
    "died.head() # conferindo os dados"
   ]
  },
  {
   "cell_type": "code",
   "execution_count": 25,
   "metadata": {},
   "outputs": [
    {
     "data": {
      "text/plain": [
       "Sex\n",
       "female    28.979263\n",
       "male      27.631705\n",
       "Name: Age, dtype: float64"
      ]
     },
     "execution_count": 25,
     "metadata": {},
     "output_type": "execute_result"
    }
   ],
   "source": [
    "# calculando a média de sobrevientes por sexo\n",
    "survived.groupby('Sex')['Age'].mean()"
   ]
  },
  {
   "cell_type": "markdown",
   "metadata": {},
   "source": [
    "Pelo resultado acima, a média de idade dos sobreviventes são: 29 anos para mulheres e 28 para homens. Agora dividindo os dados entre homens e mulheres sobreviventes, temos:"
   ]
  },
  {
   "cell_type": "code",
   "execution_count": 26,
   "metadata": {},
   "outputs": [],
   "source": [
    "# Divisão entre passageiros do sexo masculino e feminino\n",
    "survived_female = survived.query('Sex==\"female\"')\n",
    "survived_male = survived.query('Sex == \"male\"')"
   ]
  },
  {
   "cell_type": "markdown",
   "metadata": {},
   "source": [
    "E a diferença entre homens e mulheres sobreviventes é:"
   ]
  },
  {
   "cell_type": "code",
   "execution_count": 27,
   "metadata": {},
   "outputs": [
    {
     "name": "stdout",
     "output_type": "stream",
     "text": [
      "Número de mulheres sobreviventes:  233\n",
      "Número de homens sobreviventes:  109\n",
      "Diferença entre o número de homens e mulheres sobreviventes:  124\n"
     ]
    }
   ],
   "source": [
    "print('Número de mulheres sobreviventes: ', len(survived_female))\n",
    "print('Número de homens sobreviventes: ', len(survived_male))\n",
    "print('Diferença entre o número de homens e mulheres sobreviventes: ',\n",
    "     len(survived_female) - len(survived_male))"
   ]
  },
  {
   "cell_type": "code",
   "execution_count": 28,
   "metadata": {},
   "outputs": [
    {
     "data": {
      "text/plain": [
       "1    91\n",
       "3    72\n",
       "2    70\n",
       "Name: Pclass, dtype: int64"
      ]
     },
     "execution_count": 28,
     "metadata": {},
     "output_type": "execute_result"
    }
   ],
   "source": [
    "# Dividindo as sobrevientes por classe\n",
    "survived_female['Pclass'].value_counts()"
   ]
  },
  {
   "cell_type": "code",
   "execution_count": 29,
   "metadata": {},
   "outputs": [
    {
     "data": {
      "text/plain": [
       "3    47\n",
       "1    45\n",
       "2    17\n",
       "Name: Pclass, dtype: int64"
      ]
     },
     "execution_count": 29,
     "metadata": {},
     "output_type": "execute_result"
    }
   ],
   "source": [
    "# Dividindo os sobreviventes do sexo masculino por classe\n",
    "survived_male['Pclass'].value_counts()"
   ]
  },
  {
   "cell_type": "code",
   "execution_count": 30,
   "metadata": {},
   "outputs": [
    {
     "data": {
      "image/png": "[encoded data removed]",
      "text/plain": [
       "<Figure size 648x432 with 1 Axes>"
      ]
     },
     "metadata": {
      "needs_background": "light"
     },
     "output_type": "display_data"
    }
   ],
   "source": [
    "# Gráfico de barras com valores multiplos\n",
    "male = [45, 17, 47] # contagem de homens \n",
    "female = [91, 70, 72] # contagem de mulheres \n",
    "Pclass = ['1', '2', '3'] # Classe do bilhete\n",
    "\n",
    "pos = np.arange(3) # posições das barras\n",
    "tam = .35 # distancia das barras.\n",
    "\n",
    "fig, ax = plt.subplots(figsize=(9,6)) # para plotar vários gráficos em uma mesma figura.\n",
    "# Ambos os plots seguem a mesma ideia, a posição da barra é dada pelo primeiro \n",
    "# argumento:\n",
    "# - para a barra ficar a esquerda do centro do tick em x\n",
    "# + para a barra ficar a direita do centro do tick em x.\n",
    "plt1 = ax.bar(pos-tam/2, male, tam, color=(0.1,0.1,0.7,0.9), label='Homem')\n",
    "plt2 = ax.bar(pos+tam/2, female, tam, color=(0.9,0.5,0.6,0.9), label='Mulher')\n",
    "\n",
    "ax.set_title('Contagem de pessoas sobreviventes \\n por sexo e classe do bilhete', fontsize=16, fontweight='bold')\n",
    "ax.set_xlabel('Classe do bilhete', fontsize=15)\n",
    "ax.set_ylabel('Contagem de pessoas', fontsize=15)\n",
    "\n",
    "ax.set_xticks(pos) \n",
    "\n",
    "ax.set_xticklabels(Pclass, rotation=0, ha='right') \n",
    "ax.legend(); "
   ]
  },
  {
   "cell_type": "markdown",
   "metadata": {},
   "source": [
    "Pelo resultado obtido, temos que mais mulheres sobreviveram em relação aos homens e isso ocorreu em todas as classes de bilhete. Na primeira classe, o número de mulheres sobrevivente foi quase o dobro do número de homens; na segunda classe, o número de homens foi quase 25% o número de mulheres e na terceira classe os homens foram 65% do número de mulheres."
   ]
  },
  {
   "cell_type": "markdown",
   "metadata": {},
   "source": [
    "# Segunda pergunta: A classe da tarifa tem relação com os sobreviventes?"
   ]
  },
  {
   "cell_type": "markdown",
   "metadata": {},
   "source": [
    "Para responder a essa pergunta, será necessário separar os não-sobreviventes por classe."
   ]
  },
  {
   "cell_type": "code",
   "execution_count": 31,
   "metadata": {},
   "outputs": [],
   "source": [
    "# separando os não-sobreviventes por classe\n",
    "died_male = died.query('Sex == \"male\"')\n",
    "died_female = died.query('Sex == \"female\"')"
   ]
  },
  {
   "cell_type": "code",
   "execution_count": 32,
   "metadata": {},
   "outputs": [
    {
     "name": "stdout",
     "output_type": "stream",
     "text": [
      "Número de mulheres não sobreviventes:  81\n",
      "Número de homens não sobreviventes:  468\n",
      "Diferença entre o número de homens e mulheres não sobreviventes:  387\n"
     ]
    }
   ],
   "source": [
    "print('Número de mulheres não sobreviventes: ', len(died_female))\n",
    "print('Número de homens não sobreviventes: ', len(died_male))\n",
    "print('Diferença entre o número de homens e mulheres não sobreviventes: ',\n",
    "     len(died_male) - len(died_female))"
   ]
  },
  {
   "cell_type": "markdown",
   "metadata": {},
   "source": [
    "Pelos resultados até o momento, os homens foram os que mais sofreram com o desastre."
   ]
  },
  {
   "cell_type": "code",
   "execution_count": 33,
   "metadata": {},
   "outputs": [
    {
     "data": {
      "text/plain": [
       "3    300\n",
       "2     91\n",
       "1     77\n",
       "Name: Pclass, dtype: int64"
      ]
     },
     "execution_count": 33,
     "metadata": {},
     "output_type": "execute_result"
    }
   ],
   "source": [
    "# Não-sobreviventes do sexo masculino separados por classe\n",
    "died_male['Pclass'].value_counts()"
   ]
  },
  {
   "cell_type": "code",
   "execution_count": 34,
   "metadata": {},
   "outputs": [
    {
     "data": {
      "text/plain": [
       "3    72\n",
       "2     6\n",
       "1     3\n",
       "Name: Pclass, dtype: int64"
      ]
     },
     "execution_count": 34,
     "metadata": {},
     "output_type": "execute_result"
    }
   ],
   "source": [
    "# Não-sobreviventes do sexo feminino separados por classe\n",
    "died_female['Pclass'].value_counts()"
   ]
  },
  {
   "cell_type": "markdown",
   "metadata": {},
   "source": [
    "Para melhorar a visualização dos dados, essas informações serão apresentadas nos histogramas abaixo, primeiro a comparação entre sobreviventes e não-sobreviventes do sexo feminino e depois do masculino."
   ]
  },
  {
   "cell_type": "code",
   "execution_count": 35,
   "metadata": {},
   "outputs": [
    {
     "data": {
      "image/png": "[encoded data removed]",
      "text/plain": [
       "<Figure size 648x432 with 1 Axes>"
      ]
     },
     "metadata": {
      "needs_background": "light"
     },
     "output_type": "display_data"
    }
   ],
   "source": [
    "# Gráfico de barras entre mulheres sobreviventes e não sobreviventes e suas classes do bilhete\n",
    "survivedf = [91, 70, 72] # contagem de mulheres sobreviventes\n",
    "nsurvivedf = [3, 6, 72] # contagem de mulheres não-sobreviventes\n",
    "Pclass = ['1', '2', '3'] # Classe do bilhete\n",
    "\n",
    "pos = np.arange(3) # posições das barras\n",
    "tam = .35 # distancia das barras.\n",
    "\n",
    "fig, ax = plt.subplots(figsize=(9,6)) # para plotar vários gráficos em uma mesma figura.\n",
    "# Ambos os plots seguem a mesma ideia, a posição da barra é dada pelo primeiro \n",
    "# argumento:\n",
    "# - para a barra ficar a esquerda do centro do tick em x\n",
    "# + para a barra ficar a direita do centro do tick em x.\n",
    "plt1 = ax.bar(pos-tam/2, survivedf, tam, color=(0.3,0.5,0.7,0.9), label='sobreviventes')\n",
    "plt2 = ax.bar(pos+tam/2, nsurvivedf, tam, color=(0.9,0.3,0.6,0.9), label='não-sobreviventes')\n",
    "\n",
    "ax.set_title('Contagem de MULHERES sobreviventes e \\n não-sobreviventes divididas por classe do bilhete', \n",
    "             fontsize=16, \n",
    "             fontweight='bold')\n",
    "ax.set_xlabel('Classe do bilhete', fontsize=15)\n",
    "ax.set_ylabel('Contagem de pessoas', fontsize=15)\n",
    "\n",
    "ax.set_xticks(pos) \n",
    "\n",
    "ax.set_xticklabels(Pclass, rotation=0, ha='right') \n",
    "ax.legend(); "
   ]
  },
  {
   "cell_type": "code",
   "execution_count": 36,
   "metadata": {},
   "outputs": [
    {
     "data": {
      "image/png": "[encoded data removed]",
      "text/plain": [
       "<Figure size 648x432 with 1 Axes>"
      ]
     },
     "metadata": {
      "needs_background": "light"
     },
     "output_type": "display_data"
    }
   ],
   "source": [
    "# Gráfico de barras entre homens sobreviventes e não sobreviventes e suas classes do bilhete\n",
    "survivedm = [45, 17, 47] # contagem de homens sobreviventes\n",
    "nsurvivedm = [77, 91, 300] # contagem de homens não-sobreviventes\n",
    "Pclass = ['1', '2', '3'] # Classe do bilhete\n",
    "\n",
    "pos = np.arange(3) # posições das barras\n",
    "tam = .35 # distancia das barras.\n",
    "\n",
    "fig, ax = plt.subplots(figsize=(9,6)) # para plotar vários gráficos em uma mesma figura.\n",
    "# Ambos os plots seguem a mesma ideia, a posição da barra é dada pelo primeiro \n",
    "# argumento:\n",
    "# - para a barra ficar a esquerda do centro do tick em x\n",
    "# + para a barra ficar a direita do centro do tick em x.\n",
    "plt1 = ax.bar(pos-tam/2, survivedm, tam, color=(0.4,0.5,0.8,0.9), label='sobreviventes')\n",
    "plt2 = ax.bar(pos+tam/2, nsurvivedm, tam, color=(0.7,0.3,0.6,0.9), label='não-sobreviventes')\n",
    "\n",
    "ax.set_title('Contagem de HOMENS sobreviventes e \\n não-sobreviventes divididas por classe do bilhete', \n",
    "             fontsize=16, \n",
    "             fontweight='bold')\n",
    "ax.set_xlabel('Classe do bilhete', fontsize=15)\n",
    "ax.set_ylabel('Contagem de pessoas', fontsize=15)\n",
    "\n",
    "ax.set_xticks(pos) \n",
    "\n",
    "ax.set_xticklabels(Pclass, rotation=0, ha='right') \n",
    "ax.legend(); "
   ]
  },
  {
   "cell_type": "markdown",
   "metadata": {},
   "source": [
    "Na pergunta anterior, vimos que o número de mulheres sobreviventes, em todas as classes, foi superior ao dos homens. Agora, com os dados separados por sexo vemos que:\n",
    "\n",
    "\n",
    "    Para as mulheres: As mulheres da primeira classe praticamente todas se salvaram, assim como as da segunda. Um resultado inesperado foi que as mulheres da terceira classe tiveram uma proporção igual de sobreviventes e não-sobreviventes. E, por fim, é possível observar que as mulheres da primeira e segunda classe tiveram uma vantagem muito maior para se salvarem do que as da terceira.\n",
    "\n",
    "    Para homens: Os homens por sua vez, tiveram o número de mortos maior que o dos sobreviventes em todas as classes, inclusive na primeira, onde para as mulheres elas foram quase que salvas em sua totalidade. Porém, na terceira classe o resultado foi bem pior, nesta o número de mortos foi bem maior que o dos sobreviventes.\n",
    "\n",
    "Dos resultados obtidos até o momento, podemos dizer que as mulheres da primeira classe foram as que mais se salvaram enquanto que os homens da terceira classe foram os que mais morreram. Ou seja, parece que o sexo e a classe social beneficiaram uma parcela dos 38% dos sobreviventes."
   ]
  },
  {
   "cell_type": "markdown",
   "metadata": {},
   "source": [
    "# Terceira pergunta: Os sobreviventes eram compostos de crianças, jovens e idosos?"
   ]
  },
  {
   "cell_type": "markdown",
   "metadata": {},
   "source": [
    "Inicialmente, os dados serão verificados por grupos:\n",
    "\n",
    "    - menores que 18 anos serão as crianças;\n",
    "    - entre 18 e 70 anos serão os adultos;\n",
    "    - maiores que 70 anos os idosos.\n",
    "\n",
    "A função abaixo será utilizada para analisar os vários dados produzidos até aqui."
   ]
  },
  {
   "cell_type": "code",
   "execution_count": 37,
   "metadata": {},
   "outputs": [],
   "source": [
    "def idade (lista):\n",
    "    \"\"\"Função para separar os passageiros por grupos de gerações\n",
    "    jovem são os menores de 18 anos\n",
    "    adulto são os entre 18 e 70 anos\n",
    "    idosos são os com mais de 70 anos\n",
    "    return fornece a quantidade de cada variável\"\"\"\n",
    "    jovem = 0\n",
    "    adulto = 0\n",
    "    idoso = 0\n",
    "    for row in lista:\n",
    "        if row <= 18:\n",
    "            jovem += 1\n",
    "        elif 18 < row < 70:\n",
    "            adulto += 1\n",
    "        elif row >= 70:\n",
    "            idoso += 1\n",
    "    return print('criança: {}, \\nadulto: {}, \\nidoso: {}'.format(jovem, adulto, idoso))"
   ]
  },
  {
   "cell_type": "markdown",
   "metadata": {},
   "source": [
    "A primeira análise será feita utilizando os dados sem separação:"
   ]
  },
  {
   "cell_type": "code",
   "execution_count": 38,
   "metadata": {},
   "outputs": [
    {
     "name": "stdout",
     "output_type": "stream",
     "text": [
      "criança: 139, \n",
      "adulto: 745, \n",
      "idoso: 7\n"
     ]
    }
   ],
   "source": [
    "idade(df['Age'])"
   ]
  },
  {
   "cell_type": "markdown",
   "metadata": {},
   "source": [
    "Temos 139 crianças, 745 adultos e 7 idosos antes do náufrago. Agora, só analisando os sobreviventes."
   ]
  },
  {
   "cell_type": "code",
   "execution_count": 39,
   "metadata": {},
   "outputs": [
    {
     "name": "stdout",
     "output_type": "stream",
     "text": [
      "criança: 70, \n",
      "adulto: 271, \n",
      "idoso: 1\n"
     ]
    }
   ],
   "source": [
    "idade(survived['Age'])"
   ]
  },
  {
   "cell_type": "markdown",
   "metadata": {},
   "source": [
    "Das 139 crianças, apenas 70 sobreviveram; dos 745 adultos 271 sobreviveram e dos 7 idosos apenas 1 sobreviveu. E agora, observando os que não sobreviveram."
   ]
  },
  {
   "cell_type": "code",
   "execution_count": 40,
   "metadata": {},
   "outputs": [
    {
     "name": "stdout",
     "output_type": "stream",
     "text": [
      "criança: 69, \n",
      "adulto: 474, \n",
      "idoso: 6\n"
     ]
    }
   ],
   "source": [
    "idade(died['Age'])"
   ]
  },
  {
   "cell_type": "markdown",
   "metadata": {},
   "source": [
    "E, o resultado acima são os não-sobreviventes; 69 crianças, 474 adultos e 6 idosos."
   ]
  },
  {
   "cell_type": "markdown",
   "metadata": {},
   "source": [
    "Dividindo os sobreviventes por classe de bilhete:"
   ]
  },
  {
   "cell_type": "code",
   "execution_count": 41,
   "metadata": {},
   "outputs": [],
   "source": [
    "firstclass_survived = survived.query('Pclass == 1')\n",
    "secondclass_survived = survived.query('Pclass == 2')\n",
    "thirdclass_survived = survived.query('Pclass == 3')"
   ]
  },
  {
   "cell_type": "code",
   "execution_count": 42,
   "metadata": {},
   "outputs": [
    {
     "name": "stdout",
     "output_type": "stream",
     "text": [
      "criança: 14, \n",
      "adulto: 121, \n",
      "idoso: 1\n"
     ]
    }
   ],
   "source": [
    "# separando a primeira classe em grupos de idade\n",
    "idade(firstclass_survived['Age']) # primeira classe"
   ]
  },
  {
   "cell_type": "code",
   "execution_count": 43,
   "metadata": {},
   "outputs": [
    {
     "name": "stdout",
     "output_type": "stream",
     "text": [
      "criança: 23, \n",
      "adulto: 64, \n",
      "idoso: 0\n"
     ]
    }
   ],
   "source": [
    "#separando a segunda classe em grupos de idade\n",
    "idade(secondclass_survived['Age']) # segunda classe"
   ]
  },
  {
   "cell_type": "code",
   "execution_count": 44,
   "metadata": {},
   "outputs": [
    {
     "name": "stdout",
     "output_type": "stream",
     "text": [
      "criança: 33, \n",
      "adulto: 86, \n",
      "idoso: 0\n"
     ]
    }
   ],
   "source": [
    "#separando a terceira classe em grupos de idade\n",
    "idade(thirdclass_survived['Age']) # terceira classe"
   ]
  },
  {
   "cell_type": "markdown",
   "metadata": {},
   "source": [
    "Dos resultados podemos observar que a maioria das crianças sobreviventes se encontrava na terceira classe; a maioria dos adultos era da primeira classe assim como o idoso. Para uma melhor visualização os dados serão plotados no histograma abaixo:"
   ]
  },
  {
   "cell_type": "code",
   "execution_count": 45,
   "metadata": {},
   "outputs": [
    {
     "data": {
      "image/png": "[encoded data removed]",
      "text/plain": [
       "<Figure size 576x360 with 1 Axes>"
      ]
     },
     "metadata": {
      "needs_background": "light"
     },
     "output_type": "display_data"
    }
   ],
   "source": [
    "firstclass_survived['Age'].hist(label= \"primeira classe\", alpha=0.9, figsize=(8,5))\n",
    "secondclass_survived['Age'].hist(label = \"segunda classe\", alpha=0.6)\n",
    "thirdclass_survived['Age'].hist(label = \"terceira classe\", alpha=0.5)\n",
    "plt.title('Idade dos sobreviventes do naufrágio \\n separados pelas classes do bilhete', fontsize=17)\n",
    "plt.xlabel('Idade dos sobreviventes', fontsize=15)\n",
    "plt.ylabel('contagem de pessoas', fontsize=15)\n",
    "plt.legend();"
   ]
  },
  {
   "cell_type": "markdown",
   "metadata": {},
   "source": [
    "Com os dados obtidos, podemos ver que das 139 crianças que embarcaram, somente 70 sobreviveram e pelo histograma podemos ver que a maioria era da terceira classe. Dos adultos, a maior concentração de sobreviventes se encontram na primeira classe e, como já vimos anteriormente, essa maioria eram de mulheres. E, infelizmente, apenas um idoso sobreviveu e ele pertence a primeira classe. Podemos ver também que a concentração de pessoas masi velhas é da primeira classe, enquanto que a mais jovem é da terceira."
   ]
  },
  {
   "cell_type": "markdown",
   "metadata": {},
   "source": [
    "# Quarta pergunta: Por que tantos homens adultos sobreviveram enquanto muitas mulheres e crianças morreram?\n",
    "\n",
    "Quando assistimos a filmes de naufrágio, sempre ouvimos a frase: \"mulheres e crianças primeiro!\". Considerando que nem todas as mulheres e nem todas as crianças foram salvas e alguns homens foram, a pergunta é, por que eles foram salvos no lugar das mulheres e crianças?\n",
    "\n",
    "Para responder a essa pergunta, o primeiro procedimento a ser feito é separar os passageiros do sexo masculino por classes."
   ]
  },
  {
   "cell_type": "code",
   "execution_count": 46,
   "metadata": {},
   "outputs": [
    {
     "data": {
      "image/png": "[encoded data removed]",
      "text/plain": [
       "<Figure size 576x360 with 1 Axes>"
      ]
     },
     "metadata": {
      "needs_background": "light"
     },
     "output_type": "display_data"
    }
   ],
   "source": [
    "survived_male['Pclass'].value_counts().plot(kind='bar', color = (0.1,0.9,0.6,0.9), \n",
    "                                            edgecolor= \"gray\",\n",
    "                                           figsize=(8,5))\n",
    "plt.title('Homens sobreviventes separados pela classe', fontweight='bold', fontsize=16)\n",
    "plt.xlabel('Classe do bilhete', fontsize=15)\n",
    "plt.ylabel('Contagem de pessoas', fontsize=15)\n",
    "plt.yticks(fontsize=12)\n",
    "plt.xticks(fontsize=12, rotation=0);"
   ]
  },
  {
   "cell_type": "markdown",
   "metadata": {},
   "source": [
    "Podemos observar que dos poucos homens que sobreviveram, a maioria era da terceira e primeira classe, respectivamente, e alguns da segunda. Vale levar em consideração que o número de homens da terceira classe era bem superior aos das demais. Então faz sentido eles terem uma quantidade maior de sobreviventes. \n",
    "\n",
    "Agora é necessário saber sobre a idade deles para sabermos quantas são crianças. Para isso, vou separar as classes por grupos de idades."
   ]
  },
  {
   "cell_type": "code",
   "execution_count": 47,
   "metadata": {},
   "outputs": [
    {
     "name": "stdout",
     "output_type": "stream",
     "text": [
      "criança: 24, \n",
      "adulto: 84, \n",
      "idoso: 1\n"
     ]
    }
   ],
   "source": [
    "idade(survived_male['Age'])"
   ]
  },
  {
   "cell_type": "markdown",
   "metadata": {},
   "source": [
    "No geral, dos 109 homens sobreviventes 24 são crianças, 84 são adultos e 1 é idoso. Agora separando por classes temos:"
   ]
  },
  {
   "cell_type": "code",
   "execution_count": 48,
   "metadata": {},
   "outputs": [],
   "source": [
    "# separando os sobreviventes do sexo masculino por classes \n",
    "firstclass_survived_male = survived_male.query('Pclass == 1')\n",
    "secondclass_survived_male = survived_male.query('Pclass == 2')\n",
    "thirdclass_survived_male = survived_male.query('Pclass == 3')"
   ]
  },
  {
   "cell_type": "code",
   "execution_count": 49,
   "metadata": {},
   "outputs": [
    {
     "name": "stdout",
     "output_type": "stream",
     "text": [
      "criança: 4, \n",
      "adulto: 40, \n",
      "idoso: 1\n"
     ]
    }
   ],
   "source": [
    "idade(firstclass_survived_male['Age']) # passageiros masculinos da primeira classe"
   ]
  },
  {
   "cell_type": "code",
   "execution_count": 50,
   "metadata": {},
   "outputs": [
    {
     "name": "stdout",
     "output_type": "stream",
     "text": [
      "criança: 9, \n",
      "adulto: 8, \n",
      "idoso: 0\n"
     ]
    }
   ],
   "source": [
    "idade(secondclass_survived_male['Age']) # passageiros masculinos da segunda classe"
   ]
  },
  {
   "cell_type": "code",
   "execution_count": 51,
   "metadata": {},
   "outputs": [
    {
     "name": "stdout",
     "output_type": "stream",
     "text": [
      "criança: 11, \n",
      "adulto: 36, \n",
      "idoso: 0\n"
     ]
    }
   ],
   "source": [
    "idade(thirdclass_survived_male['Age']) # passageiros masculinos da terceira classe"
   ]
  },
  {
   "cell_type": "markdown",
   "metadata": {},
   "source": [
    "O número de adultos foi superior aos outros grupos sendo que apenas um dos sobreviventes do sexo masculino era idoso. Para uma melhor comparação os dados erão graficados no histograma abaixo:"
   ]
  },
  {
   "cell_type": "code",
   "execution_count": 52,
   "metadata": {},
   "outputs": [
    {
     "data": {
      "image/png": "[encoded data removed]",
      "text/plain": [
       "<Figure size 576x360 with 1 Axes>"
      ]
     },
     "metadata": {
      "needs_background": "light"
     },
     "output_type": "display_data"
    }
   ],
   "source": [
    "firstclass_survived_male['Age'].hist(label= \"primeira classe\", alpha=0.9, figsize=(8,5))\n",
    "secondclass_survived_male['Age'].hist(label = \"segunda classe\", alpha=0.6)\n",
    "thirdclass_survived_male['Age'].hist(label = \"terceira classe\", alpha=0.5)\n",
    "plt.title('Idade dos sobreviventes do naufrágio do sexo masculino \\n separados pelas classes do bilhete', \n",
    "          fontsize=17)\n",
    "plt.xlabel('Idade dos sobreviventes', fontsize=15)\n",
    "plt.ylabel('contagem de pessoas', fontsize=15)\n",
    "plt.legend();"
   ]
  },
  {
   "cell_type": "markdown",
   "metadata": {},
   "source": [
    "Das 70 crianças sobreviventes, 24 eram homens e são mostrados no início do histograma. Garotos de todas as classes foram salvos. Dos idosos apenas um sobreviveu e pertencia à primeira classe. Dos adultos, poucos foram os da segunda classe, a maioria era da terceira seguida da primeira classes. \n",
    "\n",
    "O último fator a ser analisado e que pode ter relação com o salvamento desses homens é eles terem família a bordo, sendo assim será feita uma análise dos sobreviventes com família logo abaixo:"
   ]
  },
  {
   "cell_type": "code",
   "execution_count": 53,
   "metadata": {},
   "outputs": [
    {
     "name": "stdout",
     "output_type": "stream",
     "text": [
      "109\n"
     ]
    },
    {
     "data": {
      "text/plain": [
       "0    73\n",
       "1    32\n",
       "2     3\n",
       "4     1\n",
       "Name: SibSp, dtype: int64"
      ]
     },
     "execution_count": 53,
     "metadata": {},
     "output_type": "execute_result"
    }
   ],
   "source": [
    "print(len(survived_male)) # quantidade de passageiros do sexo masculino sobreviventes\n",
    "survived_male['SibSp'].value_counts() # quantidade de pessoas separadas pela quantidade de irmãos e conjuges"
   ]
  },
  {
   "cell_type": "code",
   "execution_count": 54,
   "metadata": {},
   "outputs": [
    {
     "data": {
      "text/plain": [
       "0    80\n",
       "1    19\n",
       "2    10\n",
       "Name: Parch, dtype: int64"
      ]
     },
     "execution_count": 54,
     "metadata": {},
     "output_type": "execute_result"
    }
   ],
   "source": [
    "survived_male['Parch'].value_counts() # quantidade de pessoas com pais e filhos"
   ]
  },
  {
   "cell_type": "markdown",
   "metadata": {},
   "source": [
    "Dos 109 passageiros do sexo masculino 36 possuíam irmãos e/ou cônjuges e 29 estavam acompanhados com pais e filhos. Esses passageiros serão agrupados pois pode haver alguma intersecção nos dados e isso acabaria comprometendo os resultados."
   ]
  },
  {
   "cell_type": "code",
   "execution_count": 55,
   "metadata": {},
   "outputs": [
    {
     "data": {
      "text/plain": [
       "SibSp  Parch\n",
       "0      0        64\n",
       "       2         5\n",
       "       1         4\n",
       "1      0        14\n",
       "       1        14\n",
       "       2         4\n",
       "2      0         2\n",
       "       1         1\n",
       "4      2         1\n",
       "Name: Parch, dtype: int64"
      ]
     },
     "execution_count": 55,
     "metadata": {},
     "output_type": "execute_result"
    }
   ],
   "source": [
    "# agrupando os dados SibSp e Parch\n",
    "survived_male.groupby('SibSp')['Parch'].value_counts()"
   ]
  },
  {
   "cell_type": "markdown",
   "metadata": {},
   "source": [
    "Pela tabela acima 64 passageiros do sexo masculino não possuíam parentes, dessa forma, apenas 45 passageiros possuíam famílias. É possível que as pessoas com famílias devam ter sido beneficiadas de alguma forma, porém não é certeza, pois famílias também morreram no naufrágio. Quanto aos 64 homens desacompanhados podem ter se salvado de várias maneiras que não tenha sido utilizando botes salva-vidas, isso pode ser um motivo de tantas pessoas da terceira classe terem se salvado, mas seriam necessários mais variáveis para podermos dizer mais sobre isso."
   ]
  },
  {
   "cell_type": "markdown",
   "metadata": {},
   "source": [
    "# Quinta pergunta: Quais os limites de preços das tarifas de cada classe e qual a idade média dos passageiros de cada uma delas?\n",
    "Essa pergunta é interessante, pois quem não gostaria de viajar na primeira classe?"
   ]
  },
  {
   "cell_type": "markdown",
   "metadata": {},
   "source": [
    "Inicialmente, é importante saber o valor mínimo e máximo da tarifa."
   ]
  },
  {
   "cell_type": "code",
   "execution_count": 56,
   "metadata": {},
   "outputs": [
    {
     "data": {
      "text/plain": [
       "count    891.000000\n",
       "mean      32.204208\n",
       "std       49.693429\n",
       "min        0.000000\n",
       "25%        7.910400\n",
       "50%       14.454200\n",
       "75%       31.000000\n",
       "max      512.329200\n",
       "Name: Fare, dtype: float64"
      ]
     },
     "execution_count": 56,
     "metadata": {},
     "output_type": "execute_result"
    }
   ],
   "source": [
    "df.Fare.describe() # descrição geral das tarifas"
   ]
  },
  {
   "cell_type": "markdown",
   "metadata": {},
   "source": [
    "Os valores variam de 0 a 512 com média de 32. Agora separando por classe, temos:"
   ]
  },
  {
   "cell_type": "code",
   "execution_count": 57,
   "metadata": {},
   "outputs": [],
   "source": [
    "first_class = df.query('Pclass == 1')\n",
    "second_class = df.query('Pclass == 2')\n",
    "third_class = df.query('Pclass == 3')"
   ]
  },
  {
   "cell_type": "code",
   "execution_count": 58,
   "metadata": {},
   "outputs": [
    {
     "data": {
      "image/png": "[encoded data removed]",
      "text/plain": [
       "<Figure size 576x360 with 1 Axes>"
      ]
     },
     "metadata": {
      "needs_background": "light"
     },
     "output_type": "display_data"
    }
   ],
   "source": [
    "first_class['Fare'].hist(figsize=(8,5),label='Primeira classe', bins=30)\n",
    "second_class['Fare'].hist(label='Segunda classe', bins=20, alpha=0.5)\n",
    "third_class['Fare'].hist(label='Terceira classe', alpha=0.5, bins=20)\n",
    "\n",
    "plt.title('Distribuição do preço pago na tarifa de cada classe',fontsize=17)\n",
    "plt.xlabel('Preço da tarifa', fontsize=15)\n",
    "plt.ylabel('contagem de pessoas', fontsize=15)\n",
    "\n",
    "plt.legend();"
   ]
  },
  {
   "cell_type": "markdown",
   "metadata": {},
   "source": [
    "O interessante desse histograma é que tem pessoas na primeira classe que pagaram valores próximos a zero ou de graça, talvez sejam as crianças. Algumas das pessoas da segunda e terceira classe pagaram valores de tarifas que se enquadram na primeira classe. Para verificar o intervalo de preços e idade média das pessoas de cada classe vou utilizar a ferramenta .describe()."
   ]
  },
  {
   "cell_type": "code",
   "execution_count": 59,
   "metadata": {},
   "outputs": [
    {
     "data": {
      "text/html": [
       "<div>\n",
       "<style scoped>\n",
       "    .dataframe tbody tr th:only-of-type {\n",
       "        vertical-align: middle;\n",
       "    }\n",
       "\n",
       "    .dataframe tbody tr th {\n",
       "        vertical-align: top;\n",
       "    }\n",
       "\n",
       "    .dataframe thead th {\n",
       "        text-align: right;\n",
       "    }\n",
       "</style>\n",
       "<table border=\"1\" class=\"dataframe\">\n",
       "  <thead>\n",
       "    <tr style=\"text-align: right;\">\n",
       "      <th></th>\n",
       "      <th>Survived</th>\n",
       "      <th>Pclass</th>\n",
       "      <th>Age</th>\n",
       "      <th>SibSp</th>\n",
       "      <th>Parch</th>\n",
       "      <th>Fare</th>\n",
       "    </tr>\n",
       "  </thead>\n",
       "  <tbody>\n",
       "    <tr>\n",
       "      <th>count</th>\n",
       "      <td>216.000000</td>\n",
       "      <td>216.0</td>\n",
       "      <td>216.000000</td>\n",
       "      <td>216.000000</td>\n",
       "      <td>216.000000</td>\n",
       "      <td>216.000000</td>\n",
       "    </tr>\n",
       "    <tr>\n",
       "      <th>mean</th>\n",
       "      <td>0.629630</td>\n",
       "      <td>1.0</td>\n",
       "      <td>37.048118</td>\n",
       "      <td>0.416667</td>\n",
       "      <td>0.356481</td>\n",
       "      <td>84.154687</td>\n",
       "    </tr>\n",
       "    <tr>\n",
       "      <th>std</th>\n",
       "      <td>0.484026</td>\n",
       "      <td>0.0</td>\n",
       "      <td>14.046369</td>\n",
       "      <td>0.611898</td>\n",
       "      <td>0.693997</td>\n",
       "      <td>78.380373</td>\n",
       "    </tr>\n",
       "    <tr>\n",
       "      <th>min</th>\n",
       "      <td>0.000000</td>\n",
       "      <td>1.0</td>\n",
       "      <td>0.920000</td>\n",
       "      <td>0.000000</td>\n",
       "      <td>0.000000</td>\n",
       "      <td>0.000000</td>\n",
       "    </tr>\n",
       "    <tr>\n",
       "      <th>25%</th>\n",
       "      <td>0.000000</td>\n",
       "      <td>1.0</td>\n",
       "      <td>29.000000</td>\n",
       "      <td>0.000000</td>\n",
       "      <td>0.000000</td>\n",
       "      <td>30.923950</td>\n",
       "    </tr>\n",
       "    <tr>\n",
       "      <th>50%</th>\n",
       "      <td>1.000000</td>\n",
       "      <td>1.0</td>\n",
       "      <td>35.000000</td>\n",
       "      <td>0.000000</td>\n",
       "      <td>0.000000</td>\n",
       "      <td>60.287500</td>\n",
       "    </tr>\n",
       "    <tr>\n",
       "      <th>75%</th>\n",
       "      <td>1.000000</td>\n",
       "      <td>1.0</td>\n",
       "      <td>47.250000</td>\n",
       "      <td>1.000000</td>\n",
       "      <td>0.000000</td>\n",
       "      <td>93.500000</td>\n",
       "    </tr>\n",
       "    <tr>\n",
       "      <th>max</th>\n",
       "      <td>1.000000</td>\n",
       "      <td>1.0</td>\n",
       "      <td>80.000000</td>\n",
       "      <td>3.000000</td>\n",
       "      <td>4.000000</td>\n",
       "      <td>512.329200</td>\n",
       "    </tr>\n",
       "  </tbody>\n",
       "</table>\n",
       "</div>"
      ],
      "text/plain": [
       "         Survived  Pclass         Age       SibSp       Parch        Fare\n",
       "count  216.000000   216.0  216.000000  216.000000  216.000000  216.000000\n",
       "mean     0.629630     1.0   37.048118    0.416667    0.356481   84.154687\n",
       "std      0.484026     0.0   14.046369    0.611898    0.693997   78.380373\n",
       "min      0.000000     1.0    0.920000    0.000000    0.000000    0.000000\n",
       "25%      0.000000     1.0   29.000000    0.000000    0.000000   30.923950\n",
       "50%      1.000000     1.0   35.000000    0.000000    0.000000   60.287500\n",
       "75%      1.000000     1.0   47.250000    1.000000    0.000000   93.500000\n",
       "max      1.000000     1.0   80.000000    3.000000    4.000000  512.329200"
      ]
     },
     "execution_count": 59,
     "metadata": {},
     "output_type": "execute_result"
    }
   ],
   "source": [
    "first_class.describe() # análise estatística da primeira classe"
   ]
  },
  {
   "cell_type": "markdown",
   "metadata": {},
   "source": [
    "Na primeira classe, podemos ver que a média de idades é 37 anos e que  as tarifas variaram de 0 a 512 com média de 84."
   ]
  },
  {
   "cell_type": "code",
   "execution_count": 60,
   "metadata": {},
   "outputs": [
    {
     "data": {
      "text/html": [
       "<div>\n",
       "<style scoped>\n",
       "    .dataframe tbody tr th:only-of-type {\n",
       "        vertical-align: middle;\n",
       "    }\n",
       "\n",
       "    .dataframe tbody tr th {\n",
       "        vertical-align: top;\n",
       "    }\n",
       "\n",
       "    .dataframe thead th {\n",
       "        text-align: right;\n",
       "    }\n",
       "</style>\n",
       "<table border=\"1\" class=\"dataframe\">\n",
       "  <thead>\n",
       "    <tr style=\"text-align: right;\">\n",
       "      <th></th>\n",
       "      <th>Survived</th>\n",
       "      <th>Pclass</th>\n",
       "      <th>Age</th>\n",
       "      <th>SibSp</th>\n",
       "      <th>Parch</th>\n",
       "      <th>Fare</th>\n",
       "    </tr>\n",
       "  </thead>\n",
       "  <tbody>\n",
       "    <tr>\n",
       "      <th>count</th>\n",
       "      <td>184.000000</td>\n",
       "      <td>184.0</td>\n",
       "      <td>184.000000</td>\n",
       "      <td>184.000000</td>\n",
       "      <td>184.000000</td>\n",
       "      <td>184.000000</td>\n",
       "    </tr>\n",
       "    <tr>\n",
       "      <th>mean</th>\n",
       "      <td>0.472826</td>\n",
       "      <td>2.0</td>\n",
       "      <td>29.866958</td>\n",
       "      <td>0.402174</td>\n",
       "      <td>0.380435</td>\n",
       "      <td>20.662183</td>\n",
       "    </tr>\n",
       "    <tr>\n",
       "      <th>std</th>\n",
       "      <td>0.500623</td>\n",
       "      <td>0.0</td>\n",
       "      <td>13.573825</td>\n",
       "      <td>0.601633</td>\n",
       "      <td>0.690963</td>\n",
       "      <td>13.417399</td>\n",
       "    </tr>\n",
       "    <tr>\n",
       "      <th>min</th>\n",
       "      <td>0.000000</td>\n",
       "      <td>2.0</td>\n",
       "      <td>0.670000</td>\n",
       "      <td>0.000000</td>\n",
       "      <td>0.000000</td>\n",
       "      <td>0.000000</td>\n",
       "    </tr>\n",
       "    <tr>\n",
       "      <th>25%</th>\n",
       "      <td>0.000000</td>\n",
       "      <td>2.0</td>\n",
       "      <td>23.000000</td>\n",
       "      <td>0.000000</td>\n",
       "      <td>0.000000</td>\n",
       "      <td>13.000000</td>\n",
       "    </tr>\n",
       "    <tr>\n",
       "      <th>50%</th>\n",
       "      <td>0.000000</td>\n",
       "      <td>2.0</td>\n",
       "      <td>29.699118</td>\n",
       "      <td>0.000000</td>\n",
       "      <td>0.000000</td>\n",
       "      <td>14.250000</td>\n",
       "    </tr>\n",
       "    <tr>\n",
       "      <th>75%</th>\n",
       "      <td>1.000000</td>\n",
       "      <td>2.0</td>\n",
       "      <td>36.000000</td>\n",
       "      <td>1.000000</td>\n",
       "      <td>1.000000</td>\n",
       "      <td>26.000000</td>\n",
       "    </tr>\n",
       "    <tr>\n",
       "      <th>max</th>\n",
       "      <td>1.000000</td>\n",
       "      <td>2.0</td>\n",
       "      <td>70.000000</td>\n",
       "      <td>3.000000</td>\n",
       "      <td>3.000000</td>\n",
       "      <td>73.500000</td>\n",
       "    </tr>\n",
       "  </tbody>\n",
       "</table>\n",
       "</div>"
      ],
      "text/plain": [
       "         Survived  Pclass         Age       SibSp       Parch        Fare\n",
       "count  184.000000   184.0  184.000000  184.000000  184.000000  184.000000\n",
       "mean     0.472826     2.0   29.866958    0.402174    0.380435   20.662183\n",
       "std      0.500623     0.0   13.573825    0.601633    0.690963   13.417399\n",
       "min      0.000000     2.0    0.670000    0.000000    0.000000    0.000000\n",
       "25%      0.000000     2.0   23.000000    0.000000    0.000000   13.000000\n",
       "50%      0.000000     2.0   29.699118    0.000000    0.000000   14.250000\n",
       "75%      1.000000     2.0   36.000000    1.000000    1.000000   26.000000\n",
       "max      1.000000     2.0   70.000000    3.000000    3.000000   73.500000"
      ]
     },
     "execution_count": 60,
     "metadata": {},
     "output_type": "execute_result"
    }
   ],
   "source": [
    "second_class.describe()  # análise estatística da segunda classe"
   ]
  },
  {
   "cell_type": "markdown",
   "metadata": {},
   "source": [
    "A idade média da segunda classe é 30 anos e as tarifas variaram de 0 a 74 com média de 21."
   ]
  },
  {
   "cell_type": "code",
   "execution_count": 61,
   "metadata": {},
   "outputs": [
    {
     "data": {
      "text/html": [
       "<div>\n",
       "<style scoped>\n",
       "    .dataframe tbody tr th:only-of-type {\n",
       "        vertical-align: middle;\n",
       "    }\n",
       "\n",
       "    .dataframe tbody tr th {\n",
       "        vertical-align: top;\n",
       "    }\n",
       "\n",
       "    .dataframe thead th {\n",
       "        text-align: right;\n",
       "    }\n",
       "</style>\n",
       "<table border=\"1\" class=\"dataframe\">\n",
       "  <thead>\n",
       "    <tr style=\"text-align: right;\">\n",
       "      <th></th>\n",
       "      <th>Survived</th>\n",
       "      <th>Pclass</th>\n",
       "      <th>Age</th>\n",
       "      <th>SibSp</th>\n",
       "      <th>Parch</th>\n",
       "      <th>Fare</th>\n",
       "    </tr>\n",
       "  </thead>\n",
       "  <tbody>\n",
       "    <tr>\n",
       "      <th>count</th>\n",
       "      <td>491.000000</td>\n",
       "      <td>491.0</td>\n",
       "      <td>491.000000</td>\n",
       "      <td>491.000000</td>\n",
       "      <td>491.000000</td>\n",
       "      <td>491.000000</td>\n",
       "    </tr>\n",
       "    <tr>\n",
       "      <th>mean</th>\n",
       "      <td>0.242363</td>\n",
       "      <td>3.0</td>\n",
       "      <td>26.403259</td>\n",
       "      <td>0.615071</td>\n",
       "      <td>0.393075</td>\n",
       "      <td>13.675550</td>\n",
       "    </tr>\n",
       "    <tr>\n",
       "      <th>std</th>\n",
       "      <td>0.428949</td>\n",
       "      <td>0.0</td>\n",
       "      <td>10.815245</td>\n",
       "      <td>1.374883</td>\n",
       "      <td>0.888861</td>\n",
       "      <td>11.778142</td>\n",
       "    </tr>\n",
       "    <tr>\n",
       "      <th>min</th>\n",
       "      <td>0.000000</td>\n",
       "      <td>3.0</td>\n",
       "      <td>0.420000</td>\n",
       "      <td>0.000000</td>\n",
       "      <td>0.000000</td>\n",
       "      <td>0.000000</td>\n",
       "    </tr>\n",
       "    <tr>\n",
       "      <th>25%</th>\n",
       "      <td>0.000000</td>\n",
       "      <td>3.0</td>\n",
       "      <td>20.250000</td>\n",
       "      <td>0.000000</td>\n",
       "      <td>0.000000</td>\n",
       "      <td>7.750000</td>\n",
       "    </tr>\n",
       "    <tr>\n",
       "      <th>50%</th>\n",
       "      <td>0.000000</td>\n",
       "      <td>3.0</td>\n",
       "      <td>29.699118</td>\n",
       "      <td>0.000000</td>\n",
       "      <td>0.000000</td>\n",
       "      <td>8.050000</td>\n",
       "    </tr>\n",
       "    <tr>\n",
       "      <th>75%</th>\n",
       "      <td>0.000000</td>\n",
       "      <td>3.0</td>\n",
       "      <td>29.699118</td>\n",
       "      <td>1.000000</td>\n",
       "      <td>0.000000</td>\n",
       "      <td>15.500000</td>\n",
       "    </tr>\n",
       "    <tr>\n",
       "      <th>max</th>\n",
       "      <td>1.000000</td>\n",
       "      <td>3.0</td>\n",
       "      <td>74.000000</td>\n",
       "      <td>8.000000</td>\n",
       "      <td>6.000000</td>\n",
       "      <td>69.550000</td>\n",
       "    </tr>\n",
       "  </tbody>\n",
       "</table>\n",
       "</div>"
      ],
      "text/plain": [
       "         Survived  Pclass         Age       SibSp       Parch        Fare\n",
       "count  491.000000   491.0  491.000000  491.000000  491.000000  491.000000\n",
       "mean     0.242363     3.0   26.403259    0.615071    0.393075   13.675550\n",
       "std      0.428949     0.0   10.815245    1.374883    0.888861   11.778142\n",
       "min      0.000000     3.0    0.420000    0.000000    0.000000    0.000000\n",
       "25%      0.000000     3.0   20.250000    0.000000    0.000000    7.750000\n",
       "50%      0.000000     3.0   29.699118    0.000000    0.000000    8.050000\n",
       "75%      0.000000     3.0   29.699118    1.000000    0.000000   15.500000\n",
       "max      1.000000     3.0   74.000000    8.000000    6.000000   69.550000"
      ]
     },
     "execution_count": 61,
     "metadata": {},
     "output_type": "execute_result"
    }
   ],
   "source": [
    "third_class.describe()  # análise estatística da terceira classe"
   ]
  },
  {
   "cell_type": "markdown",
   "metadata": {},
   "source": [
    "Na terceira classe, a idade média é 26 e as tarifas variaram de 0 a 70, com média de preço de 17.\n",
    "\n",
    "E, respondendo a quinta pergunta \"Quais os limites de preços das tarifas de cada classe e qual a idade média dos passageiros de cada uma delas?\" Verificando as médias de idade e preço da tarifa, temos que os passageiros da primeira classe são os mais velhos, com a média de idade de 36 anos, seguida da segunda classe que é de 30 anos e terceira classe, a mais jovem, com 26 anos. A média de preços condiz com a classe, sendo 84 para a primeira, 21 para a segunda e 17 para a terceira.\n",
    "\n",
    "Por curiosidade, qual a característica das pessoas da primeira classe que não pagaram tarifa?"
   ]
  },
  {
   "cell_type": "code",
   "execution_count": 62,
   "metadata": {},
   "outputs": [
    {
     "data": {
      "text/html": [
       "<div>\n",
       "<style scoped>\n",
       "    .dataframe tbody tr th:only-of-type {\n",
       "        vertical-align: middle;\n",
       "    }\n",
       "\n",
       "    .dataframe tbody tr th {\n",
       "        vertical-align: top;\n",
       "    }\n",
       "\n",
       "    .dataframe thead th {\n",
       "        text-align: right;\n",
       "    }\n",
       "</style>\n",
       "<table border=\"1\" class=\"dataframe\">\n",
       "  <thead>\n",
       "    <tr style=\"text-align: right;\">\n",
       "      <th></th>\n",
       "      <th>Survived</th>\n",
       "      <th>Pclass</th>\n",
       "      <th>Sex</th>\n",
       "      <th>Age</th>\n",
       "      <th>SibSp</th>\n",
       "      <th>Parch</th>\n",
       "      <th>Fare</th>\n",
       "      <th>Cabin</th>\n",
       "    </tr>\n",
       "  </thead>\n",
       "  <tbody>\n",
       "    <tr>\n",
       "      <th>263</th>\n",
       "      <td>0</td>\n",
       "      <td>1</td>\n",
       "      <td>male</td>\n",
       "      <td>40.000000</td>\n",
       "      <td>0</td>\n",
       "      <td>0</td>\n",
       "      <td>0.0</td>\n",
       "      <td>B94</td>\n",
       "    </tr>\n",
       "    <tr>\n",
       "      <th>633</th>\n",
       "      <td>0</td>\n",
       "      <td>1</td>\n",
       "      <td>male</td>\n",
       "      <td>29.699118</td>\n",
       "      <td>0</td>\n",
       "      <td>0</td>\n",
       "      <td>0.0</td>\n",
       "      <td></td>\n",
       "    </tr>\n",
       "    <tr>\n",
       "      <th>806</th>\n",
       "      <td>0</td>\n",
       "      <td>1</td>\n",
       "      <td>male</td>\n",
       "      <td>39.000000</td>\n",
       "      <td>0</td>\n",
       "      <td>0</td>\n",
       "      <td>0.0</td>\n",
       "      <td>A36</td>\n",
       "    </tr>\n",
       "    <tr>\n",
       "      <th>815</th>\n",
       "      <td>0</td>\n",
       "      <td>1</td>\n",
       "      <td>male</td>\n",
       "      <td>29.699118</td>\n",
       "      <td>0</td>\n",
       "      <td>0</td>\n",
       "      <td>0.0</td>\n",
       "      <td>B102</td>\n",
       "    </tr>\n",
       "    <tr>\n",
       "      <th>822</th>\n",
       "      <td>0</td>\n",
       "      <td>1</td>\n",
       "      <td>male</td>\n",
       "      <td>38.000000</td>\n",
       "      <td>0</td>\n",
       "      <td>0</td>\n",
       "      <td>0.0</td>\n",
       "      <td></td>\n",
       "    </tr>\n",
       "  </tbody>\n",
       "</table>\n",
       "</div>"
      ],
      "text/plain": [
       "     Survived  Pclass   Sex        Age  SibSp  Parch  Fare Cabin\n",
       "263         0       1  male  40.000000      0      0   0.0   B94\n",
       "633         0       1  male  29.699118      0      0   0.0      \n",
       "806         0       1  male  39.000000      0      0   0.0   A36\n",
       "815         0       1  male  29.699118      0      0   0.0  B102\n",
       "822         0       1  male  38.000000      0      0   0.0      "
      ]
     },
     "execution_count": 62,
     "metadata": {},
     "output_type": "execute_result"
    }
   ],
   "source": [
    "first_class.query('Fare == 0') # passageiros da primeira classe que não pagaram tarifas"
   ]
  },
  {
   "cell_type": "markdown",
   "metadata": {},
   "source": [
    "Esses passageiros são do sexo masculino, adultos, sem família e não sobreviveram. Talvez eles eram os trabalhadores importantes do navio, como por exemplo o engenehiro do barco."
   ]
  },
  {
   "cell_type": "markdown",
   "metadata": {},
   "source": [
    "# Conclusão\n",
    "\n",
    "Dos passageiros que viajaram no Titanic apenas 38% deles sobreviveram. Dentre eles a maioria eram mulheres, principalmente da primeira classe, no qual foram quase 100% salvas. Em contrapartida, a maioria dos não-sobreviventes eram do sexo masculino da terceira classe. Mostrando que a classe da tarifa e sexo tiveram grande contribuição na sobrevivência das pessoas que viajaram nesse navio. \n",
    "\n",
    "Dos sobreviventes, nem todas as crianças que embarcaram sobreviveram ao acidente e apenas um idoso dos 7 que viajaram voltou com vida. Alguns homens adultos se salvaram do naufrágio, enquanto que tiveram mulheres e crianças que não, mesmo sendo prioridade salvá-las antes dos homens. É possível, que grande parte deles tenham se salvado sem a utilização de botes-salva-vidas, porém isso não é possível se afirmar pois não há dados o suficiente para isso.\n",
    "\n",
    "Algumas tarifas da primeira classe eram tão caras que fez com que a média do valor da primeira classe fosse bem superior às demais. Quanto as médias de idades dos passageiros de cada classe mostraram que os mais velhos eram da primeira e os mais jovens da terceira.\n",
    "\n",
    "Algumas limitações foram encontradas durante as análises do banco de dados de tal forma que prejudicou uma melhor conclusão. Por exemplo, a falta de informações de algumas idades foram substituídas pela média das idades informadas, isso resolveu, mas não é o dado correto. Outra ausência que fez falta foi a da informação das cabines. Sem ela não foi possível correlacionar o valor da tarifa e a quantidade de pessoas por cabine. E por fim, faltou dados sobre como os sobreviventes se salvaram, como por exemplo se utilizaram botes salva-vidas ou se encontraram algum meio alternativo. Essas informações enriqueceriam bastante toda a análise e discussão deste projeto. "
   ]
  },
  {
   "cell_type": "markdown",
   "metadata": {},
   "source": [
    "# Bibliografia\n",
    "\n",
    "http://python-graph-gallery.com/barplot/\n",
    "\n",
    "https://stackoverflow.com/\n",
    "\n",
    "https://programandociencia.com/2014/12/30/graficos-bidimensionais-com-python-parte-ii/\n",
    "\n",
    "https://paulovasconcellos.com.br/28-comandos-%C3%BAteis-de-pandas-que-talvez-voc%C3%AA-n%C3%A3o-conhe%C3%A7a-6ab64beefa93"
   ]
  },
  {
   "cell_type": "code",
   "execution_count": null,
   "metadata": {},
   "outputs": [],
   "source": []
  }
 ],
 "metadata": {
  "kernelspec": {
   "display_name": "Python 3",
   "language": "python",
   "name": "python3"
  },
  "language_info": {
   "codemirror_mode": {
    "name": "ipython",
    "version": 3
   },
   "file_extension": ".py",
   "mimetype": "text/x-python",
   "name": "python",
   "nbconvert_exporter": "python",
   "pygments_lexer": "ipython3",
   "version": "3.7.2"
  }
 },
 "nbformat": 4,
 "nbformat_minor": 2
}
